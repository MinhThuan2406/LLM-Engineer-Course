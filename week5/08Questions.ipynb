{
 "cells": [
  {
   "cell_type": "markdown",
   "id": "6aa8a2c1",
   "metadata": {},
   "source": [
    "<div style=\"font-size: 14px; line-height: 1.5; margin: 0; padding: 0;\">\n",
    "<h5 style=\"margin-bottom: 0.2em;\"><b>Questions to Test throughout the days</b></h5>\n",
    "<ul style=\"margin: 0.4em 0; padding-left: 1.5em;\">\n",
    "  <li>Who is Alex Lancaster?</li>\n",
    "  <li>What is the CarLLM product?</li>\n",
    "  <li>Who are the employees in the Insurellm knowledge base?</li>\n",
    "  <li>What does the Insurellm company do?</li>\n",
    "  <li>Tell me about Avery's role at Insurellm.</li>\n",
    "  <li>What insurance products does Insurellm offer?</li>\n",
    "  <li>Who is responsible for product development?</li>\n",
    "  <li>What is the main feature of the CarLLM product?</li>\n",
    "  <li>Who can I contact for claims support?</li>\n",
    "  <li>List all products mentioned in the knowledge base.</li>\n",
    "</ul>\n",
    "</div>\n"
   ]
  },
  {
   "cell_type": "markdown",
   "id": "de315389",
   "metadata": {},
   "source": [
    "<div style=\"font-size: 14px; line-height: 1.5; margin: 0; padding: 0;\">\n",
    "  <h5 style=\"margin-bottom: 0.2em;\"><b>New Questions (might be responded \"I don't know\" by the model)</b></h5>\n",
    "  <ul style=\"margin: 0.4em 0; padding-left: 1.5em;\">\n",
    "    <li>What awards has Insurellm or its employees received?</li>\n",
    "    <li>Describe the responsibilities of the claims support team.</li>\n",
    "    <li>Which employee is the CEO of Insurellm?</li>\n",
    "    <li>How does Insurellm use AI in its products?</li>\n",
    "    <li>What are the main differences between CarLLM and other insurance products?</li>\n",
    "    <li>Who leads the product development team?</li>\n",
    "    <li>Can you summarize the company’s mission or vision?</li>\n",
    "    <li>What is the process for filing an insurance claim with Insurellm?</li>\n",
    "    <li>Which products are designed for automotive insurance?</li>\n",
    "    <li>Who should I contact for technical support?</li>\n",
    "    <li>What recent innovations has Insurellm introduced?</li>\n",
    "    <li>Are there any notable partnerships or collaborations mentioned in the knowledge base?</li>\n",
    "    <li>What are the eligibility criteria for Insurellm’s insurance products?</li>\n",
    "    <li>How does Insurellm ensure data privacy for its customers?</li>\n",
    "    <li>What is the background of Alex Lancaster?</li>\n",
    "  </ul>\n",
    "</div>\n"
   ]
  }
 ],
 "metadata": {
  "language_info": {
   "name": "python"
  }
 },
 "nbformat": 4,
 "nbformat_minor": 5
}
