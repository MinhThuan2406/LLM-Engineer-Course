{
    "cells": [
        {
            "cell_type": "markdown",
            "metadata": {},
            "source": [
                "##### Ollama C++ Code Generation Test\n",
                "\n",
                "This notebook tests Ollama's ability to generate working C++ code from Python with proper error handling and debugging."
            ]
        },
        {
            "cell_type": "code",
            "execution_count": 25,
            "metadata": {},
            "outputs": [
                {
                    "data": {
                        "text/plain": [
                            "True"
                        ]
                    },
                    "execution_count": 25,
                    "metadata": {},
                    "output_type": "execute_result"
                }
            ],
            "source": [
                "# Basic imports\n",
                "import os\n",
                "import subprocess\n",
                "from dotenv import load_dotenv\n",
                "from openai import OpenAI\n",
                "\n",
                "load_dotenv(override=True)"
            ]
        },
        {
            "cell_type": "code",
            "execution_count": 26,
            "metadata": {},
            "outputs": [],
            "source": [
                "# Setup Ollama connection\n",
                "ollama_via_openai = OpenAI(base_url='http://localhost:11434/v1', api_key='ollama')\n",
                "OLLAMA_MODEL = \"llama3.2\""
            ]
        },
        {
            "cell_type": "code",
            "execution_count": 27,
            "metadata": {},
            "outputs": [],
            "source": [
                "system_message_test = \"You are a C++ code generator for Windows. \"\n",
                "system_message_test += \"CRITICAL RULES: \"\n",
                "system_message_test += \"1. Output ONLY valid C++ code - NO explanations, NO notes, NO text outside code \"\n",
                "system_message_test += \"2. Start immediately with #include statements \"\n",
                "system_message_test += \"3. Never write 'Here is the code' or 'Note that' or any explanatory text \"\n",
                "system_message_test += \"4. ALWAYS include: #include <iostream>, #include <chrono>, #include <cstdint>, #include <vector> \"\n",
                "system_message_test += \"5. Use int64_t for negative numbers like -10 \"\n",
                "system_message_test += \"6. Use uint64_t for large positive numbers like 4294967296ULL \"\n",
                "system_message_test += \"7. NO Python keywords like 'yield' - use simple classes with next() methods \"\n",
                "system_message_test += \"8. Match variable names EXACTLY from function parameters \"\n",
                "system_message_test += \"9. NEVER increment const references \"\n",
                "system_message_test += \"10. Respond with C++ code ONLY - no markdown, no explanations, just code\""
            ]
        },
        {
            "cell_type": "code",
            "execution_count": 28,
            "metadata": {},
            "outputs": [],
            "source": [
                "def test_ollama_simple(python_code):\n",
                "    \"\"\"Test Ollama with a simple Python example\"\"\"\n",
                "    user_prompt = f\"Convert this Python to C++:\\n\\n{python_code}\"\n",
                "    \n",
                "    messages = [\n",
                "        {\"role\": \"system\", \"content\": system_message_test},\n",
                "        {\"role\": \"user\", \"content\": user_prompt}\n",
                "    ]\n",
                "    \n",
                "    response = ollama_via_openai.chat.completions.create(\n",
                "        model=OLLAMA_MODEL,\n",
                "        messages=messages,\n",
                "        stream=False\n",
                "    )\n",
                "    \n",
                "    return response.choices[0].message.content"
            ]
        },
        {
            "cell_type": "code",
            "execution_count": 29,
            "metadata": {},
            "outputs": [],
            "source": [
                "def clean_and_save_cpp(cpp_code, filename=\"test.cpp\"):\n",
                "    \"\"\"Clean C++ code and save to file\"\"\"\n",
                "    # Remove markdown formatting\n",
                "    code = cpp_code.replace(\"```cpp\", \"\").replace(\"```\", \"\")\n",
                "    \n",
                "    # More aggressive cleaning based on #codebase patterns\n",
                "    lines = code.split('\\n')\n",
                "    cleaned_lines = []\n",
                "    \n",
                "    in_code_block = False\n",
                "    \n",
                "    for line in lines:\n",
                "        stripped = line.strip()\n",
                "        \n",
                "        # Skip explanatory lines completely\n",
                "        if (stripped.startswith('Here ') or \n",
                "            stripped.startswith('Note') or\n",
                "            stripped.startswith('This ') or\n",
                "            stripped.startswith('The ') or\n",
                "            stripped.startswith('I ') or\n",
                "            stripped.startswith('Here\\'s') or\n",
                "            '`' in stripped or\n",
                "            stripped == '' and not in_code_block):\n",
                "            continue\n",
                "            \n",
                "        # Look for actual C++ code patterns\n",
                "        if (stripped.startswith('#include') or\n",
                "            stripped.startswith('int ') or\n",
                "            stripped.startswith('void ') or\n",
                "            stripped.startswith('class ') or\n",
                "            stripped.startswith('struct ') or\n",
                "            stripped.startswith('using ') or\n",
                "            stripped.startswith('std::') or\n",
                "            '{' in stripped or\n",
                "            '}' in stripped):\n",
                "            in_code_block = True\n",
                "        \n",
                "        if in_code_block:\n",
                "            cleaned_lines.append(line)\n",
                "    \n",
                "    cleaned_code = '\\n'.join(cleaned_lines)\n",
                "    \n",
                "    with open(filename, 'w') as f:\n",
                "        f.write(cleaned_code)\n",
                "    \n",
                "    return cleaned_code"
            ]
        },
        {
            "cell_type": "code",
            "execution_count": 30,
            "metadata": {},
            "outputs": [],
            "source": [
                "def compile_and_run_cpp(filename=\"test.cpp\"):\n",
                "    \"\"\"Compile and run C++ code with detailed error reporting\"\"\"\n",
                "    exe_name = filename.replace('.cpp', '.exe')\n",
                "    \n",
                "    try:\n",
                "        # Compile\n",
                "        compile_cmd = [\"g++\", \"-O3\", \"-std=c++17\", \"-o\", exe_name, filename]\n",
                "        compile_result = subprocess.run(compile_cmd, capture_output=True, text=True)\n",
                "        \n",
                "        if compile_result.returncode != 0:\n",
                "            return f\"COMPILATION ERROR:\\n{compile_result.stderr}\"\n",
                "        \n",
                "        # Run\n",
                "        run_result = subprocess.run([exe_name], capture_output=True, text=True)\n",
                "        \n",
                "        if run_result.returncode != 0:\n",
                "            return f\"RUNTIME ERROR:\\n{run_result.stderr}\"\n",
                "        \n",
                "        return f\"SUCCESS:\\n{run_result.stdout}\"\n",
                "        \n",
                "    except Exception as e:\n",
                "        return f\"EXCEPTION: {str(e)}\""
            ]
        },
        {
            "cell_type": "code",
            "execution_count": 31,
            "metadata": {},
            "outputs": [
                {
                    "name": "stdout",
                    "output_type": "stream",
                    "text": [
                        "Testing simple Python example...\n",
                        "Generated C++ code:\n",
                        "```cpp\n",
                        "#include <iostream>\n",
                        "#include <chrono>\n",
                        "\n",
                        "class SumCalculator {\n",
                        "public:\n",
                        "    virtual size_t total() const = 0;\n",
                        "};\n",
                        "\n",
                        "struct NaiveSumCalculator : public SumCalculator {\n",
                        "    size_t calculate(size_t n) override {\n",
                        "        size_t total = 0;\n",
                        "        for (size_t i = 1; i <= n; ++i)\n",
                        "            total += i;\n",
                        "\n",
                        "        return total;\n",
                        "    }\n",
                        "\n",
                        "private:\n",
                        "    size_t m_n;\n",
                        "};\n",
                        "\n",
                        "class OptimizedSumCalculator : public SumCalculator {\n",
                        "public:\n",
                        "    OptimizedSumCalculator(size_t n) : m_n(n) {}\n",
                        "\n",
                        "    size_t total() const override {\n",
                        "        const uint64_t sum = (uint64_t)(n + 1) * ((uint64_t)n / 2);\n",
                        "        return static_cast<size_t>(sum);\n",
                        "    }\n",
                        "\n",
                        "private:\n",
                        "    uint32_t n;\n",
                        "};\n",
                        "\n",
                        "int main() {\n",
                        "#include <cstdint>\n",
                        "\n",
                        "    OptimizedSumCalculator calculator(1000000);\n",
                        "\n",
                        "    auto start_time = std::chrono::high_resolution_clock::now();\n",
                        "    size_t result = calculator.total();\n",
                        "    auto end_time = std::chrono::high_resolution_clock::now();\n",
                        "\n",
                        "    auto duration = std::chrono::duration_cast<std::chrono::milliseconds>(end_time - start_time);\n",
                        "    std::cout << \"Result: \" << result << std::endl;\n",
                        "    std::cout << \"Time: \" << static_cast<double>(duration.count()) / 1000.0 << \".6f\" << std::endl;\n",
                        "\n",
                        "    return EXIT_SUCCESS;\n",
                        "}\n",
                        "```\n"
                    ]
                }
            ],
            "source": [
                "# Test 1: Simple Python example (based on #codebase patterns)\n",
                "simple_python = \"\"\"\n",
                "import time\n",
                "\n",
                "def calculate_sum(n):\n",
                "    total = 0\n",
                "    for i in range(1, n+1):\n",
                "        total += i\n",
                "    return total\n",
                "\n",
                "start_time = time.time()\n",
                "result = calculate_sum(1000000)\n",
                "end_time = time.time()\n",
                "\n",
                "print(f\"Result: {result}\")\n",
                "print(f\"Time: {end_time - start_time:.6f} seconds\")\n",
                "\"\"\"\n",
                "\n",
                "print(\"Testing simple Python example...\")\n",
                "cpp_code = test_ollama_simple(simple_python)\n",
                "print(\"Generated C++ code:\")\n",
                "print(cpp_code)"
            ]
        },
        {
            "cell_type": "code",
            "execution_count": 32,
            "metadata": {},
            "outputs": [
                {
                    "name": "stdout",
                    "output_type": "stream",
                    "text": [
                        "\n",
                        "Cleaned C++ code:\n",
                        "#include <iostream>\n",
                        "#include <chrono>\n",
                        "\n",
                        "class SumCalculator {\n",
                        "public:\n",
                        "    virtual size_t total() const = 0;\n",
                        "};\n",
                        "\n",
                        "struct NaiveSumCalculator : public SumCalculator {\n",
                        "    size_t calculate(size_t n) override {\n",
                        "        size_t total = 0;\n",
                        "        for (size_t i = 1; i <= n; ++i)\n",
                        "            total += i;\n",
                        "\n",
                        "        return total;\n",
                        "    }\n",
                        "\n",
                        "private:\n",
                        "    size_t m_n;\n",
                        "};\n",
                        "\n",
                        "class OptimizedSumCalculator : public SumCalculator {\n",
                        "public:\n",
                        "    OptimizedSumCalculator(size_t n) : m_n(n) {}\n",
                        "\n",
                        "    size_t total() const override {\n",
                        "        const uint64_t sum = (uint64_t)(n + 1) * ((uint64_t)n / 2);\n",
                        "        return static_cast<size_t>(sum);\n",
                        "    }\n",
                        "\n",
                        "private:\n",
                        "    uint32_t n;\n",
                        "};\n",
                        "\n",
                        "int main() {\n",
                        "#include <cstdint>\n",
                        "\n",
                        "    OptimizedSumCalculator calculator(1000000);\n",
                        "\n",
                        "    auto start_time = std::chrono::high_resolution_clock::now();\n",
                        "    size_t result = calculator.total();\n",
                        "    auto end_time = std::chrono::high_resolution_clock::now();\n",
                        "\n",
                        "    auto duration = std::chrono::duration_cast<std::chrono::milliseconds>(end_time - start_time);\n",
                        "    std::cout << \"Result: \" << result << std::endl;\n",
                        "    std::cout << \"Time: \" << static_cast<double>(duration.count()) / 1000.0 << \".6f\" << std::endl;\n",
                        "\n",
                        "    return EXIT_SUCCESS;\n",
                        "}\n",
                        "\n"
                    ]
                }
            ],
            "source": [
                "# Clean and save the generated code\n",
                "cleaned_code = clean_and_save_cpp(cpp_code, \"test_simple.cpp\")\n",
                "print(\"\\nCleaned C++ code:\")\n",
                "print(cleaned_code)"
            ]
        },
        {
            "cell_type": "code",
            "execution_count": 33,
            "metadata": {},
            "outputs": [
                {
                    "name": "stdout",
                    "output_type": "stream",
                    "text": [
                        "\n",
                        "Compilation and execution result:\n",
                        "COMPILATION ERROR:\n",
                        "test_simple.cpp:10:12: error: 'size_t NaiveSumCalculator::calculate(size_t)' marked 'override', but does not override\n",
                        "   10 |     size_t calculate(size_t n) override {\n",
                        "      |            ^~~~~~~~~\n",
                        "test_simple.cpp: In constructor 'OptimizedSumCalculator::OptimizedSumCalculator(size_t)':\n",
                        "test_simple.cpp:24:40: error: class 'OptimizedSumCalculator' does not have any field named 'm_n'\n",
                        "   24 |     OptimizedSumCalculator(size_t n) : m_n(n) {}\n",
                        "      |                                        ^~~\n",
                        "\n"
                    ]
                }
            ],
            "source": [
                "# Try to compile and run\n",
                "result = compile_and_run_cpp(\"test_simple.cpp\")\n",
                "print(\"\\nCompilation and execution result:\")\n",
                "print(result)"
            ]
        },
        {
            "cell_type": "code",
            "execution_count": 34,
            "metadata": {},
            "outputs": [
                {
                    "name": "stdout",
                    "output_type": "stream",
                    "text": [
                        "Testing LCG example...\n",
                        "Generated C++ code:\n",
                        "```cpp\n",
                        "#include <iostream>\n",
                        "#include <chrono>\n",
                        "#include <cstdint>\n",
                        "#include <vector>\n",
                        "\n",
                        "uint64_t const a = 1664525;\n",
                        "uint64_t const c = 1013904223;\n",
                        "uint64_t const m = 4294967296ULL;\n",
                        "\n",
                        "std::vector<uint64_t> lcg_simple(uint64_t seed, uint64_t count) {\n",
                        "    std::vector<uint64_t> results;\n",
                        "    uint64_t value = seed;\n",
                        "\n",
                        "    for (uint64_t i = 0; i < count; ++i) {\n",
                        "        value = (a * value + c) % m;\n",
                        "        results.push_back(value);\n",
                        "    }\n",
                        "\n",
                        "    return results;\n",
                        "}\n",
                        "\n",
                        "int main() {\n",
                        "    auto numbers = lcg_simple(42, 5);\n",
                        "    for (const auto& num : numbers) {\n",
                        "        std::cout << num << \" \";\n",
                        "    }\n",
                        "    std::cout << std::endl;\n",
                        "\n",
                        "    return 0;\n",
                        "}\n",
                        "```\n"
                    ]
                }
            ],
            "source": [
                "# Test 2: The problematic LCG example (simplified)\n",
                "lcg_python = \"\"\"\n",
                "def lcg_simple(seed, count):\n",
                "    a = 1664525\n",
                "    c = 1013904223\n",
                "    m = 4294967296  # 2^32\n",
                "    \n",
                "    value = seed\n",
                "    results = []\n",
                "    \n",
                "    for i in range(count):\n",
                "        value = (a * value + c) % m\n",
                "        results.append(value)\n",
                "    \n",
                "    return results\n",
                "\n",
                "# Test it\n",
                "numbers = lcg_simple(42, 5)\n",
                "print(\"Generated numbers:\", numbers)\n",
                "\"\"\"\n",
                "\n",
                "print(\"Testing LCG example...\")\n",
                "cpp_code2 = test_ollama_simple(lcg_python)\n",
                "print(\"Generated C++ code:\")\n",
                "print(cpp_code2)"
            ]
        },
        {
            "cell_type": "code",
            "execution_count": 35,
            "metadata": {},
            "outputs": [
                {
                    "name": "stdout",
                    "output_type": "stream",
                    "text": [
                        "\n",
                        "LCG compilation and execution result:\n",
                        "SUCCESS:\n",
                        "1083814273 378494188 2479403867 955863294 1613448261 \n",
                        "\n"
                    ]
                }
            ],
            "source": [
                "# Clean and test the LCG code\n",
                "cleaned_code2 = clean_and_save_cpp(cpp_code2, \"test_lcg.cpp\")\n",
                "result2 = compile_and_run_cpp(\"test_lcg.cpp\")\n",
                "print(\"\\nLCG compilation and execution result:\")\n",
                "print(result2)"
            ]
        },
        {
            "cell_type": "code",
            "execution_count": 36,
            "metadata": {},
            "outputs": [
                {
                    "name": "stdout",
                    "output_type": "stream",
                    "text": [
                        "Testing simplified max subarray...\n",
                        "\n",
                        "Max subarray result:\n",
                        "SUCCESS:\n",
                        "Max subarray sum: 6\n",
                        "\n"
                    ]
                }
            ],
            "source": [
                "# If LCG works, try the max subarray (very simplified)\n",
                "if \"SUCCESS\" in result2:\n",
                "    simple_max_subarray = \"\"\"\n",
                "def max_subarray_simple(arr):\n",
                "    max_sum = float('-inf')\n",
                "    \n",
                "    for i in range(len(arr)):\n",
                "        current_sum = 0\n",
                "        for j in range(i, len(arr)):\n",
                "            current_sum += arr[j]\n",
                "            if current_sum > max_sum:\n",
                "                max_sum = current_sum\n",
                "    \n",
                "    return max_sum\n",
                "\n",
                "# Test with simple array\n",
                "test_array = [-2, 1, -3, 4, -1, 2, 1, -5, 4]\n",
                "result = max_subarray_simple(test_array)\n",
                "print(f\"Max subarray sum: {result}\")\n",
                "\"\"\"\n",
                "    \n",
                "    print(\"Testing simplified max subarray...\")\n",
                "    cpp_code3 = test_ollama_simple(simple_max_subarray)\n",
                "    cleaned_code3 = clean_and_save_cpp(cpp_code3, \"test_max_subarray.cpp\")\n",
                "    result3 = compile_and_run_cpp(\"test_max_subarray.cpp\")\n",
                "    print(\"\\nMax subarray result:\")\n",
                "    print(result3)\n",
                "else:\n",
                "    print(\"Skipping max subarray test due to LCG failure\")"
            ]
        }
    ],
    "metadata": {
        "kernelspec": {
            "display_name": "llms",
            "language": "python",
            "name": "python3"
        },
        "language_info": {
            "codemirror_mode": {
                "name": "ipython",
                "version": 3
            },
            "file_extension": ".py",
            "mimetype": "text/x-python",
            "name": "python",
            "nbconvert_exporter": "python",
            "pygments_lexer": "ipython3",
            "version": "3.11.13"
        }
    },
    "nbformat": 4,
    "nbformat_minor": 4
}
