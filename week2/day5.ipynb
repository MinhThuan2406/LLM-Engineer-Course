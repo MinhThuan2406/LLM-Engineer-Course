{
 "cells": [
  {
   "cell_type": "markdown",
   "id": "ddfa9ae6-69fe-444a-b994-8c4c5970a7ec",
   "metadata": {},
   "source": [
    "# Project - Airline AI Assistant\n",
    "\n",
    "We'll now bring together what we've learned to make an AI Customer Support assistant for an Airline"
   ]
  },
  {
   "cell_type": "code",
   "execution_count": null,
   "id": "8b50bbe2-c0b1-49c3-9a5c-1ba7efa2bcb4",
   "metadata": {},
   "outputs": [],
   "source": [
    "# imports\n",
    "\n",
    "import os\n",
    "import json\n",
    "from dotenv import load_dotenv\n",
    "from openai import OpenAI\n",
    "import gradio as gr"
   ]
  },
  {
   "cell_type": "code",
   "execution_count": null,
   "id": "747e8786-9da8-4342-b6c9-f5f69c2e22ae",
   "metadata": {},
   "outputs": [],
   "source": [
    "# Initialization\n",
    "\n",
    "load_dotenv(override=True)\n",
    "\n",
    "openai_api_key = os.getenv('OPENAI_API_KEY')\n",
    "if openai_api_key:\n",
    "    print(f\"OpenAI API Key exists and begins {openai_api_key[:8]}\")\n",
    "else:\n",
    "    print(\"OpenAI API Key not set\")\n",
    "    \n",
    "MODEL = \"gpt-4o-mini\"\n",
    "openai = OpenAI()"
   ]
  },
  {
   "cell_type": "code",
   "execution_count": null,
   "id": "0a521d84-d07c-49ab-a0df-d6451499ed97",
   "metadata": {},
   "outputs": [],
   "source": [
    "system_message = \"You are a helpful assistant for an Airline called FlightAI. \"\n",
    "system_message += \"Give short, courteous answers, no more than 1 sentence. \"\n",
    "system_message += \"Always be accurate. If you don't know the answer, say so.\""
   ]
  },
  {
   "cell_type": "code",
   "execution_count": null,
   "id": "61a2a15d-b559-4844-b377-6bd5cb4949f6",
   "metadata": {},
   "outputs": [],
   "source": [
    "# This function looks rather simpler than the one from my video, because we're taking advantage of the latest Gradio updates\n",
    "\n",
    "def chat(message, history):\n",
    "    messages = [{\"role\": \"system\", \"content\": system_message}] + history + [{\"role\": \"user\", \"content\": message}]\n",
    "    response = openai.chat.completions.create(model=MODEL, messages=messages)\n",
    "    return response.choices[0].message.content\n",
    "\n",
    "gr.ChatInterface(fn=chat, type=\"messages\").launch()"
   ]
  },
  {
   "cell_type": "markdown",
   "id": "36bedabf-a0a7-4985-ad8e-07ed6a55a3a4",
   "metadata": {},
   "source": [
    "## Tools\n",
    "\n",
    "Tools are an incredibly powerful feature provided by the frontier LLMs.\n",
    "\n",
    "With tools, you can write a function, and have the LLM call that function as part of its response.\n",
    "\n",
    "Sounds almost spooky.. we're giving it the power to run code on our machine?\n",
    "\n",
    "Well, kinda."
   ]
  },
  {
   "cell_type": "code",
   "execution_count": null,
   "id": "0696acb1-0b05-4dc2-80d5-771be04f1fb2",
   "metadata": {},
   "outputs": [],
   "source": [
    "# Let's start by making a useful function\n",
    "\n",
    "ticket_prices = {\"london\": \"$799\", \"paris\": \"$899\", \"tokyo\": \"$1400\", \"berlin\": \"$499\"}\n",
    "\n",
    "def get_ticket_price(destination_city):\n",
    "    print(f\"Tool get_ticket_price called for {destination_city}\")\n",
    "    city = destination_city.lower()\n",
    "    return ticket_prices.get(city, \"Unknown\")"
   ]
  },
  {
   "cell_type": "code",
   "execution_count": null,
   "id": "80ca4e09-6287-4d3f-997d-fa6afbcf6c85",
   "metadata": {},
   "outputs": [],
   "source": [
    "get_ticket_price(\"London\")"
   ]
  },
  {
   "cell_type": "code",
   "execution_count": null,
   "id": "4afceded-7178-4c05-8fa6-9f2085e6a344",
   "metadata": {},
   "outputs": [],
   "source": [
    "# There's a particular dictionary structure that's required to describe our function:\n",
    "\n",
    "price_function = {\n",
    "    \"name\": \"get_ticket_price\",\n",
    "    \"description\": \"Get the price of a return ticket to the destination city. Call this whenever you need to know the ticket price, for example when a customer asks 'How much is a ticket to this city'\",\n",
    "    \"parameters\": {\n",
    "        \"type\": \"object\",\n",
    "        \"properties\": {\n",
    "            \"destination_city\": {\n",
    "                \"type\": \"string\",\n",
    "                \"description\": \"The city that the customer wants to travel to\",\n",
    "            },\n",
    "        },\n",
    "        \"required\": [\"destination_city\"],\n",
    "        \"additionalProperties\": False\n",
    "    }\n",
    "}"
   ]
  },
  {
   "cell_type": "code",
   "execution_count": null,
   "id": "bdca8679-935f-4e7f-97e6-e71a4d4f228c",
   "metadata": {},
   "outputs": [],
   "source": [
    "# And this is included in a list of tools:\n",
    "\n",
    "tools = [{\"type\": \"function\", \"function\": price_function}]"
   ]
  },
  {
   "cell_type": "markdown",
   "id": "c3d3554f-b4e3-4ce7-af6f-68faa6dd2340",
   "metadata": {},
   "source": [
    "## Getting OpenAI to use our Tool\n",
    "\n",
    "There's some fiddly stuff to allow OpenAI \"to call our tool\"\n",
    "\n",
    "What we actually do is give the LLM the opportunity to inform us that it wants us to run the tool.\n",
    "\n",
    "Here's how the new chat function looks:"
   ]
  },
  {
   "cell_type": "code",
   "execution_count": null,
   "id": "ce9b0744-9c78-408d-b9df-9f6fd9ed78cf",
   "metadata": {},
   "outputs": [],
   "source": [
    "def chat(message, history):\n",
    "    messages = [{\"role\": \"system\", \"content\": system_message}] + history + [{\"role\": \"user\", \"content\": message}]\n",
    "    response = openai.chat.completions.create(model=MODEL, messages=messages, tools=tools)\n",
    "\n",
    "    if response.choices[0].finish_reason==\"tool_calls\":\n",
    "        message = response.choices[0].message\n",
    "        response, city = handle_tool_call(message)\n",
    "        messages.append(message)\n",
    "        messages.append(response)\n",
    "        response = openai.chat.completions.create(model=MODEL, messages=messages)\n",
    "    \n",
    "    return response.choices[0].message.content"
   ]
  },
  {
   "cell_type": "code",
   "execution_count": null,
   "id": "b0992986-ea09-4912-a076-8e5603ee631f",
   "metadata": {},
   "outputs": [],
   "source": [
    "# We have to write that function handle_tool_call:\n",
    "\n",
    "def handle_tool_call(message):\n",
    "    tool_call = message.tool_calls[0]\n",
    "    arguments = json.loads(tool_call.function.arguments)\n",
    "    city = arguments.get('destination_city')\n",
    "    price = get_ticket_price(city)\n",
    "    response = {\n",
    "        \"role\": \"tool\",\n",
    "        \"content\": json.dumps({\"destination_city\": city,\"price\": price}),\n",
    "        \"tool_call_id\": tool_call.id\n",
    "    }\n",
    "    return response, city"
   ]
  },
  {
   "cell_type": "code",
   "execution_count": null,
   "id": "f4be8a71-b19e-4c2f-80df-f59ff2661f14",
   "metadata": {},
   "outputs": [],
   "source": [
    "gr.ChatInterface(fn=chat, type=\"messages\").launch()"
   ]
  },
  {
   "cell_type": "markdown",
   "id": "473e5b39-da8f-4db1-83ae-dbaca2e9531e",
   "metadata": {},
   "source": [
    "# Let's go multi-modal!!\n",
    "\n",
    "We can use DALL-E-3, the image generation model behind GPT-4o, to make us some images\n",
    "\n",
    "Let's put this in a function called artist.\n",
    "\n",
    "### Price alert: each time I generate an image it costs about 4 cents - don't go crazy with images!"
   ]
  },
  {
   "cell_type": "code",
   "execution_count": null,
   "id": "2c27c4ba-8ed5-492f-add1-02ce9c81d34c",
   "metadata": {},
   "outputs": [],
   "source": [
    "# Some imports for handling images\n",
    "\n",
    "import base64\n",
    "from io import BytesIO\n",
    "from PIL import Image"
   ]
  },
  {
   "cell_type": "code",
   "execution_count": null,
   "id": "773a9f11-557e-43c9-ad50-56cbec3a0f8f",
   "metadata": {},
   "outputs": [],
   "source": [
    "def artist(city):\n",
    "    image_response = openai.images.generate(\n",
    "            model=\"dall-e-3\",\n",
    "            prompt=f\"An image representing a vacation in {city}, showing tourist spots and everything unique about {city}, in a vibrant pop-art style\",\n",
    "            size=\"1024x1024\",\n",
    "            n=1,\n",
    "            response_format=\"b64_json\",\n",
    "        )\n",
    "    image_base64 = image_response.data[0].b64_json\n",
    "    image_data = base64.b64decode(image_base64)\n",
    "    return Image.open(BytesIO(image_data))"
   ]
  },
  {
   "cell_type": "code",
   "execution_count": null,
   "id": "d877c453-e7fb-482a-88aa-1a03f976b9e9",
   "metadata": {},
   "outputs": [],
   "source": [
    "image = artist(\"New York City\")\n",
    "display(image)"
   ]
  },
  {
   "cell_type": "code",
   "execution_count": null,
   "id": "728a12c5-adc3-415d-bb05-82beb73b079b",
   "metadata": {},
   "outputs": [],
   "source": []
  },
  {
   "cell_type": "markdown",
   "id": "f4975b87-19e9-4ade-a232-9b809ec75c9a",
   "metadata": {},
   "source": [
    "## Audio (NOTE - Audio is optional for this course - feel free to skip Audio if it causes trouble!)\n",
    "\n",
    "And let's make a function talker that uses OpenAI's speech model to generate Audio\n",
    "\n",
    "### Troubleshooting Audio issues\n",
    "\n",
    "If you have any problems running this code below (like a FileNotFound error, or a warning of a missing package), you may need to install FFmpeg, a very popular audio utility.\n",
    "\n",
    "**For PC Users**\n",
    "\n",
    "Detailed instructions are [here](https://chatgpt.com/share/6724efee-6b0c-8012-ac5e-72e2e3885905) and summary instructions:\n",
    "\n",
    "1. Download FFmpeg from the official website: https://ffmpeg.org/download.html\n",
    "\n",
    "2. Extract the downloaded files to a location on your computer (e.g., `C:\\ffmpeg`)\n",
    "\n",
    "3. Add the FFmpeg bin folder to your system PATH:\n",
    "- Right-click on 'This PC' or 'My Computer' and select 'Properties'\n",
    "- Click on 'Advanced system settings'\n",
    "- Click on 'Environment Variables'\n",
    "- Under 'System variables', find and edit 'Path'\n",
    "- Add a new entry with the path to your FFmpeg bin folder (e.g., `C:\\ffmpeg\\bin`)\n",
    "- Restart your command prompt, and within Jupyter Lab do Kernel -> Restart kernel, to pick up the changes\n",
    "\n",
    "4. Open a new command prompt and run this to make sure it's installed OK\n",
    "`ffmpeg -version`\n",
    "\n",
    "**For Mac Users**\n",
    "\n",
    "1. Install homebrew if you don't have it already by running this in a Terminal window and following any instructions:  \n",
    "`/bin/bash -c \"$(curl -fsSL https://raw.githubusercontent.com/Homebrew/install/HEAD/install.sh)\"`\n",
    "\n",
    "2. Then install FFmpeg with `brew install ffmpeg`\n",
    "\n",
    "3. Verify your installation with `ffmpeg -version` and if everything is good, within Jupyter Lab do Kernel -> Restart kernel to pick up the changes\n",
    "\n",
    "Message me or email me at ed@edwarddonner.com with any problems!"
   ]
  },
  {
   "cell_type": "markdown",
   "id": "4cc90e80-c96e-4dd4-b9d6-386fe2b7e797",
   "metadata": {},
   "source": [
    "## To check you now have ffmpeg and can access it here\n",
    "\n",
    "Excecute the next cell to see if you get a version number. (Putting an exclamation mark before something in Jupyter Lab tells it to run it as a terminal command rather than python code).\n",
    "\n",
    "If this doesn't work, you may need to actually save and close down your Jupyter lab, and start it again from a new Terminal window (Mac) or Anaconda prompt (PC), remembering to activate the llms environment. This ensures you pick up ffmpeg.\n",
    "\n",
    "And if that doesn't work, please contact me!"
   ]
  },
  {
   "cell_type": "code",
   "execution_count": null,
   "id": "7b3be0fb-1d34-4693-ab6f-dbff190afcd7",
   "metadata": {},
   "outputs": [],
   "source": [
    "!ffmpeg -version\n",
    "!ffprobe -version\n",
    "!ffplay -version"
   ]
  },
  {
   "cell_type": "markdown",
   "id": "d91d3f8f-e505-4e3c-a87c-9e42ed823db6",
   "metadata": {},
   "source": [
    "# For Mac users - and possibly many PC users too\n",
    "\n",
    "This version should work fine for you. It might work for Windows users too, but you might get a Permissions error writing to a temp file. If so, see the next section!\n",
    "\n",
    "As always, if you have problems, please contact me! (You could also comment out the audio talker() in the later code if you're less interested in audio generation)"
   ]
  },
  {
   "cell_type": "code",
   "execution_count": null,
   "id": "ffbfe93b-5e86-4e68-ba71-b301cd5230db",
   "metadata": {},
   "outputs": [],
   "source": [
    "from pydub import AudioSegment\n",
    "from pydub.playback import play\n",
    "\n",
    "def talker(message):\n",
    "    response = openai.audio.speech.create(\n",
    "      model=\"tts-1\",\n",
    "      voice=\"onyx\",    # Also, try replacing onyx with alloy\n",
    "      input=message\n",
    "    )\n",
    "    \n",
    "    audio_stream = BytesIO(response.content)\n",
    "    audio = AudioSegment.from_file(audio_stream, format=\"mp3\")\n",
    "    play(audio)"
   ]
  },
  {
   "cell_type": "code",
   "execution_count": null,
   "id": "b88d775d-d357-4292-a1ad-5dc5ed567281",
   "metadata": {},
   "outputs": [],
   "source": [
    "talker(\"Well, hi there\")"
   ]
  },
  {
   "cell_type": "markdown",
   "id": "ad89a9bd-bb1e-4bbb-a49a-83af5f500c24",
   "metadata": {},
   "source": [
    "# For Windows users (or any Mac users with problems above)\n",
    "\n",
    "## First try the Mac version above, but if you get a permissions error writing to a temp file, then this code should work instead.\n",
    "\n",
    "A collaboration between students Mark M. and Patrick H. and Claude got this resolved!\n",
    "\n",
    "Below are 4 variations - hopefully one of them will work on your PC. If not, message me please!\n",
    "\n",
    "And for Mac people - all 3 of the below work on my Mac too - please try these if the Mac version gave you problems.\n",
    "\n",
    "## PC Variation 1"
   ]
  },
  {
   "cell_type": "code",
   "execution_count": 17,
   "id": "d104b96a-02ca-4159-82fe-88e0452aa479",
   "metadata": {},
   "outputs": [
    {
     "data": {
      "text/html": [
       "\n",
       "                <audio  controls=\"controls\" autoplay=\"autoplay\">\n",
       "                    <source src=\"data:audio/mpeg;base64,//PkxABXFDoEFt4eEFrTlh4ykZmsjymF8n1JbMDDLhmMJmAWgSISESIVIqRUixBcx6x6x6ydk7IWTs0y4GgaBoGgaBbDQOg60PNM60PNM60PUagTigQxDEMQw0FAo0PQ9D0PQ800PUaGIYaCGIYTgnBoGgQs60PLeTs0zTNM0ycGghiGIYoEMQxQIec5pmmh5zmmTsuY9BCDQNA0EMOQ0C4E7LmdZzmmh6Hmmh5oGghiGIYhigTiGGmh6vQ9D1Gh6HqNDDkUDInDkOhDDoJ2Ts0zTNM60PV6vVisThyIYhhyHQhh1oer0+W8nZpnOdZOC4IYhhoIYchoHQrznLeaZpnWh6HqM6EMQxOHITgnBcC4ELJ2Ts0zTJ2PWXNDy4KBDC2E4NA0CcFwNM0zTNM0zrQ80y5lwNAnBcDoQw5EMUCjV6HmmaZOy5nWo1ArFY8gMCcQxQIeh6vT6Hoeh6Hs9GBOIYchoHQrGRUBgTH/5tkGNmzfm6fqtqZn/hNmSOfyZ85lpi5heGAUhWbTa+ZtuO1G/4scYJxt58bKZr+bJgQaxkQEpk2T5qi+Z7dkxzImhAa5nqa5juE5gQAJhCG4BBIMFQyrjguNxQQCNKLdGI4YhAAAa6wUvS2UrEStLIEx//PkxHZrzDnwXPdybK2QWbIQBRAFAGOqbIoKPFh7bBXRd1nKlhQCSDpBDwpexSa31L17M6YUBAEyEr1rhVU1ZTXLTDUPS/tqSXAlYm4yJAIOkFpGHkQoONRFgsZJLVgpB3ayQxawugoYr1uzjqXPeytx09igWHWdjo7I3kLfpjtPjcCmWOxNWJ2GvrWcdOCgfNnLrr2XM2FiK3G3Xk0FTCOMPXWrqGEN0nhAAoA2Queutc1iNl7ExGOOwPBrBKqSFLxCQnpDEccBfqzar1wAXgcxcrB4mnIzCabs9Uao3jibsK8Vqicy111XQb9SpuEHtwdhQK4omo3GpZEWaO5H2KsidhX8WcZ7mDuPEluyFlawLP31l7qrBtwqWKeH6ZZSul9KwsJXa01oLO4airBYKa80N5meQ8x5pSW0Bu2/kM2GqpotJYKqMEuCojHiE4k0dhWAMYiFjzYJFAIxQwBKMCtKmDBHSNcyooo5OUAgujJNiCs3IpvENV6KBDCDR9syAUQhML4GlzITRycwLwUXMTaAmTEER78wkkOZMJbA4zAbACAwxsOHMFnAojAQAU4waYBqMcok8i6zB4GMDDIzIHjEikM+BwcEJjUWmDhIYsEwjC5hUOhAjBoVAoKLKGKi//PkxJl2xDn0AP8w9AGLQSCg8YSAgqEDTAUMAkAxwCjDIKMEicywHguDTB4PMUmE2jDTdKLMptU3qaTCohMACsw2ETGZVHic4RdcwmEjGwsDgCYiLBlYgGemYciWhkI8GxmwLOwwIVDJgcN0gCUEmB5IMYY/622wuQvpvKrTFfIfKzKaltA5aRYBKBSgY651angakX7Zk7QIMngig3UxjEiFgxmE8AEQdLApI0IaIZAKHpJ6TobRiCnbIGvUjXIMWovRuC+WbtItxhor5vVALaQBE4w5beNTUwh5fE0/Uhr7n3iibnXZ6YjUifSL2JTfgyWu5I7D9vFepYJl0vhuVzkll1+UzEqlt6Nynr4vq+cMv/NR6m5Dm6mEkl0AuVcm59rMN0EPQiCKV+alm3m/+FvUC07/ZTNLLphx52MTt2u+zIXqjVmmrReS0UVuT1dDDAswZ8wbIVoNQmJozDMAQIyn0WMMcABTDAABhQyD0B7MCBEUzSWS8MxRARKMEXb4DZ0AlAw0UaPMynEozAQQJcxjQfSMFGBOzDdio4wekC2MDQDaTRLyLExAEG8MVCFlDBhgK8wnEKJMHGA3jAuwRUwNcCqIACowCoDZDAIYlAfjZB8xUfEocED4RVoSDGhw//PkxJF0PDoMKP7fHAw2WBkMUFqgYHMjASEZAQwDAoyEZJA4EpkAGDiZgAmYENmwrgiJz8pQ+GsMa3TgzY1NBM9TjNFw5IqIn8AB5sAAAQA08XTMMTgTPhMytqN0iThGQOszgus7GYNuOTNTUygGEIIoq/UFNCh2JNfbegfy979MpiEwwLFmbsUyEMArnbOCQ0uuo0pBeJiouUHZhAgCRULgBiQMr0SIzFQcDIgiAioZhBIhzLlJdoBHSdUaAYCiiDLG2PGkwqhWTohQN6jZ1lwbUy9jv1nDXpipNLO9zeCpMSQZVt/DLmTtplUhoHgc6jYGBQlwLg1n+pmRxMtiHrK9fUZY1YwH+tlGTc9B0bV7Coy5zv3jGc6FzJEuZqHPdkskzrUyoYDoiItbL4ZBvnGu0LUhyVZ3NDD8ZoSxg52eOrIp+MivOdiYMtbnMJMEww9w4T8pNXMRENA0TnkzFkBZMMBcwziwjjDqMOM3U24wYigDTNyHOLA60y/gtzSzG+MksPw0FC4TDyMtMdcRkwGynDP+M6M+cVgys0aDC6OrMMUDExFgWjDGDENaOUBpzyYayBGCtAERzIzUxQCMJETLh1URgwIBhMvMYEHjIIWYDg+Eo1p0hUBRsLAiUAyD//PkxJNwdDogAPb08KYaAgoLQmGIFIGLDDDwcDjAFg95kMqJDBZ82MrMjOTCSYvaBqC6Qg0lVISYWDRkDAIKAlhiwAlDMQRNiyBRgRQUNhUgYVqbkaZocZN6dZgEGAAcM8KaYW0WqteLN9KHBicvXXkmY6C2ZeqtGlUUEqgBAMU2QPASsyYEGpQSFMKAQFg0IZgoYM2ZFOZMWg2XzUmVgBYBHVstPZw1hgjfFwE4IYZu7hcBDQuYXQhxUjitdgJHxpbMlIO+rY8LWXXhy7jXpa8cvzlHNRm7hT5ye1S0U5lJ7VDTy+MwHSu+58OMzXTTLocuGnMa3TOm0hpEYnnkcmQ45v/SPC/821uH7MvpJly7D7v3q7qnllughuV9l+Dvy6Ow+7lDGpRGGzxCO4W4fydSWSm7lbsSyMRikSGMWgHMtJ3PKvUMABqNBVEMkwIMQwEMVBmMVQgMPRuMmyyIAsKEYMjToMhSZMSCcMUwtM+AkMPQlMMA0MuyGMFx7O2CzeR8c5TrsIxXLNQITQW83NTMPFzIg8wslM3CDOBYWGQCALNUHU0pVDEcFqwA0NeScimJiYWYmGmEgMXYg+CNYqFmElJAeGYBxvTIYqykY2c2AHRURsk8YQymSixhxQwU//PkxKR0pDo0BO7y3MHC0OCMoKGhCBsKQFAIIMOAACBIqhhqCRcwtBIDUy8ONOTxSYMKSTdjgwwQM2UCzwGEDEhwGhpg4+RHjQwBAKAGipfx5DqhskImAXMByidFK8pjFCxCqxxQHeOkkBQwNeZ4aLRCIpWbZbEAVONNmWBUEDwl2dBAQeFjAYii0qc/lAKGDuzoaOQAKiGhILIiFESCSILoKINLVUg5ijkJMKPpfxiUF7GSPerZDkTjc/F2xQiIW9zTZVTpjssVsWEa4rYmIvR9IYtT8zk9L6S1naPbMW3pnTapeaypu0thjiJ0PgnQvuKQM0mHpe6yXkLbRbDZnFp7rhP/BbU2ltDa+7D6phxx3VzsHZg9NI09Ot2IfUVf5VBgjKpOy1wk+V3KCLHZTKWENmRzm2Tpzw81FQALAFqGRAQmCYRnTm5mlIqAQmSYMTBkQzC4GgSADARUMjCoqACHZhwC5hSDZhAibOXmmgQAyDJ58kuDIoUxgiBx6D5E1NEOHvzGDQ0YKMzT3+NffzISERAJgwusgwsEAgmLAcrMCMRZ/GSUzAOMNJzHgoztLNTFUmTGAwyc1MtBwgyCA4AAAJIisAMoFTd5I3RHDsY5TlPogws4GUrgMBjEQAQI//PkxKRzzDpAbu70nKLGAUZLPS1SgFBG5jQtrLEF1AJQEGXfHloBGg8qZ1MGLj47ABvMrVOvKO0wMMQOtGDKJhw6T61XgU1eRfbAWlrJ6qwu0nSpqrIAgS6iYE7JMRMsIQntCS/U+AARdEFLQEXHhBjjRfMwQAIXs5IkSGAkTRHUzJAD2pxJCoflqKhahjuafIJBMIgN9y7ZeSqyNbDyLP662a65GrtiCEtrjc0+0+W3vpWMiSWSVYUMBZ1Ac06Tl9lH1or8L9PqGC0h2gJdI7Fq2SqAovAgOzYKgETlwNKL80CO6fthYBz1dI+teWkzdRq9IEkWYP1MQ6yZkcM0UflvYtG1wLfTDkrhpbOEjwrGhC3Vt1OmDppscSERtcx309ZbDyGyaMgYGmTGXsYc0vClfoAgFfqaKgGMOkGcwbRGDD8oyM5DiMWB5MTdDN6R1C4sGwZGmIhVAwFzoWVzRU9zKo5TU0qjENGzMVKRUejQ40jUgUTtdCTa0HDIRPzMkHDDtYjE5ujbhtDfMnjJxezec8zLwJzU1MzN0oTtmQyclNUDTKgMyknCGsxMgMTBAUPgYyMkPENB45g4dDSqFGjGQWEQYRGQBRjggGM4yQGHNJnx8YsOHn25me4ePOGg//PkxKd2zDo4BPd2HB2ZUTjpEFUEx4CDhItsAitNhJgUFZkviRBRioYpmNADQwaUGIqIwIGeqJv4qbYKiwaazlCMZMgoDaLMwYaNrWzGBkAAIOFjGRBFtuIcEL2amuqNPu6MqdpsbavUzqWCAFQls1aAneQiIyMmOh5IAAwnCDMQirqAaYMSBAcpmEE5k4qUH5gISFBUUEAsEFlBIUMAFDCA4WFS5TixBAwMBRYDh13nRddShDepL0q2lsQSCqpetxQve19l0QbHnxaczGKRR2G5Rt33uZBHZc6MOTEVoICnJ+ZeiXy6cbz+Q/AzXUvW6r9avK3oh6Hm0kTNnycmHnolMEP3K3lf+J/AL4y915Y+79RBsLgu678EVJK7ECTN+A9Qy7MPw1DkMPxMLJlEZuwy3ORrBuS/Uqk8riUxVeiK1RgQFi9JoG4RqMAwcERjUZAZJwEAkxRYcABqYGAeYtMWZDi8IxxMw7ZMJDUMpi/NFe3N7A5MFwLMsl0M6RvMBhsNOC9ABbGTw4GJqcmhpyGHrTnJoyGS5NmK5smYpPg5vjI4sjOQGC2AXD8w1BoCAAYgAdpsaIsZpECuiYxgAJghBgDhqGwt5CzQ41Q0Q8RmQELNUKObZPOEPsMPrTP2//PkxJ5x9DpYAu6zKlTNBjLJjgFmBKzoqBkhgslERek6vjqMMZY6sjqgM5ABiNFEIAKOM44wlzCBIoQJKHwizCKJ6yjSSVJwwmqKASzRDb8AhokgUFJR5WxGIUYwxkGGokApzBLNFUFNl8zDPLNhwYFDZAysaIXMAhyZVpxtljA+BkICiC12lSASBReRIW8VA4GfJnSuHcSjzZOqDNJOEw4zaCV3sFbsjw4tZhkCyxyHDYm6bK0w11rHVOutdDEHYpIDh9x2Bs7YgwRpCgC1IYaw4mEffv5mB5iQS6VQe5dhaErjZfx+JQhvK2ZqFw64a+ndXetuLQw8btyqDWVtfZwyiKNcnGXzcTV2wxrCxExGsM4cTKpA+ETgeMUsSVJFXFWO+z2v3EpM5C7GTqnUHl7vu3DcLm0ymDYwFD8mAc0YAgwFCgwzU4wtCACguNH4NF4OBQZLLYYcA0MgaaeH8ZcEMZHt+cM7AZMDoZHh8amDyYUACYYHYaWleDRTMch/NCRQMhB/HlMNOkBBBPmoTVmnlGGYSKGUIxmSRUmWxoGWAOmEAJCIBDEh84IUMqDjdFU4gNMWKDVUw2k1MxKAsGGHpJiqILWoRWJ0g6fa0ZdPmHvZeUCtJqg+Iw0xBOPL//PkxKl37DpgAO7zMA8DBZkm4CA8EjAiVjQD4y4XISEGDBiAsZaBhxSCmwMUyaRTPMSGAogmTlocAmZHQkeEwwYCDFyDDCIWJxwXBo076hZgYkYoZicBVsVIENp2qhHwXZIpnGMeUxllvmokQoFxzqebUEinBIdJJniGuSETg6ImmVWDAC+QcImkLCrxHhy/ySgOmDBjPRLdlkGuqVjRCKLOELB4JOdK5sQKHAz7rF/wwtOldBQA8o0AXoh8eAdReheNFNHxQdjcPqZvew6HYFc9rFNACjzCGUMtaSnGzVd7nLAX1yspbGsK/FImi+kzFn0gaHIxTyiApxv3hfzUdgWWKYuHEFPtkrX3KclpEFtCjboO83WHm2clocHbqQTKphvZI70PtzlPYYzf+mx5Asjbu8MNdfJlD0N2eGFNicGOw86KgQFsFHIIAfCoiiyavMAR6Aw6QSCB8CwMhYEAw5yguQYDZoaMpggCpgADpwohoQOmVBZtL8EKqahhr8QCAKFgucAEFFDAxUrWSZAImCL4GMAsFGSe4PATBzcyACCw4LVwsaImIOLGSGDwISBGCCggmakINBDWhiJsZQwLAAQKIgplXZtAAXPmXNlYAQARkIZcoAk5hRhs4TO1CA5W//PkxJxlZDp5RO70rBz0EgSAQl+j6WlfBH5kLH1RmPGJ9RYEhHXZsspPlf0MszkK03nGAQwDLVFtU0maqRL9JMKka2hRD0DqSUDVRL3NectUyKK5tMMTGclR5e6VrZX1Zk+7cX4f5T7UpbGocfRmz85OSy2UL2pW5ULkqZPE15S1+3db2Muy/EMvq+2Uvhh1YfZU9keYK/VO4jNo+yx+uULo5RtpsPUTmUz8ONC48qaihqG2sO7FXjiriU7s7ZbJH+gZwpdSQuLzkRsRnGGr0DXXkiD6UtFBD6ymB6eIPxCZ+OQ0w6md11X6tNWhuISyDYAiLXLE+z6VP87Vh+ICzxgtjtl43YpMQU1FMy4xMDCqqqqqqqqqqqqqqqqqqqqqqqqqqqqqqqqqqqqqqqqqqqqqqqqqqqqqqoBfFAezgwKcxas1jASQHm4AgQIk0BkMCSaa7+JmMKjQIOpPcyGCQwQmM1AYAAAGB5jA2hgtaoHFMHACGjAYDGgUXdKoCDBeg4PBgwSAQQGDGRJMYgoVEZi1EmngqUBIKFMwWKTBQMKgXXUpYQixJNFcGyLOWmCWi1gNIC05sFmg8GiD8RMACRF+mG2ZYAQcpqAxn+RMLPrRiKyISpNWmClvs4UqVYhU//PkxKdetDp4pOZfTI1AAgMKdsqAFxn2KgaGiZwoDOvw1jBOUgRejkKppuLMabYFSSpTCSp8dx6sh4i5DdZBAhYcE7IbHaFXHK1m2ZDO3He4sBd0yiCNkJLCPovR+FEq1tSMBVIeoTmY2hqTKgUJ/J+p3M5+k+Z2lDVdaVVtyxdxS624Ici1YcUzi8zDZVMf6NIUIUc5yHFFgLpMuDbCbz1Vp5K08FGsF3QwwDRsdQ/UgexeqmW+TR7zqx6XFqTqErcFqOt82m4pFdHLY5HShrIU6pPw71fAiLpkZa0gPIz+TEFNRTMuMTAwqqqqqqqqqqqqeYQYFAUAtMHUosxoAQzAOAhMSsLgxegNzAzC9Mf0CoxAwYTGfNFM0BQoxgQRTBQD0MhEaQ/dKBCIdlXoBwIkmyFkYMCQzQAsyoLHC0WH0gzCFozc4HB0xeENFPigANxQDGRkxQLNEAzUhU1YkOasDbZ4+EzBSUY0MmJBhIRmbB5gIUZQkmTGohATEEkKDYJBhY9BwoRkJ2rgeCgmruQ6SIzgZhkhmYmZ4MGVoB8liAw2ZjBBQ7mIOTCiAswFQUhkYS5ghCMI2QAUYAilPmGkYI5sUl7FFxAKGGwMyZljSEs3fViXU76/Vil5U3R4//PkxO1wPDpUAvbyntWEEQyxy+qNyi0Dv07zhMpm2WuKXlZZFr0Py9/ETraJyKT+SVezZ4+vRhrYWsoDB4tnUOobI8tmiT/FUNMCu4TOE+nrbh14n7cbkAyxrLJWTOXGqz2WYZiTfNu1xcyMb1rieCOJxJfR6XopUqaLUV4l+dOHGHsaQzJy1pSKHaN23aiLEX9qQh04HaJEWNKfhbkMWfdQTF01VW2ZcpBmSa60o8vlYq6VYlQt65aeEsZGzdf62GtOGzJlq4GbP0xdyF0SNeTRl4s6VtjTqNQYTKV+MJbrMPsMkwgQLzSyddMcwKMxWiWjgMMhMdwA40UmuTM6HNMUcdk5JKmTnMazMpoVowhw5zEmFHMUw5EJDGbJAGMAcmRBQhCYg4KzJ4izCAIzGYgSoBhhGRJiKOJkUGpi+LxiYVZhwN4MPMxoIwCBScQEuYyloZalabeSqcGMaa1CiZhosaRh0YhB6Ycj8YKgeYeCeY3B2YlCKY1BuSAMYtF+YOF8YFjeIjxM4hRMqgpMUzaNEzuMwxQBgNmCAQGMYiGBAPGIoBGEgzhA2GFYbAYsyh0UVrJzNCYIvYxGwdqYIyOYgNEkjMfJlUsAjUaNM3A4VgFmFkVQZriQEroLLLPL//PkxP92NDosAPdynDrjqlWFe1BMt4GBpAGKYl4ZIiuy2KwiKTU31ZLRtJd1uzzrlXTSMZZm6sMxSB2AtYZsW5aOlSyx5kvUwWjQtrMdXK+ViURZ6WmuFCXCkT6yGpctwzMuy5MVlMOwy/L1PzDLWXJcl2X0VND71oqslj0vd14mnQDRxXb6xjNwXVX08saglpK6ZBGZNM0LEXBZKz6D8Ygrc/EPVmBMSicNLuhlynfZS6S7njZbUlzAkcqaHo1NXJUwliVM7SPSurMDQSXtL/M2vukxKCl5LOWivama44TvpCtQhtKlTEFNRTMuMTAJorgpGCGMebrLgBijgymO6KwcVANZgyi1GhGlYYPw05nWSQGvslcYPImJktB/GHcCoYSIlDKzGo1NECYwWNQ7TGYwCZzM4JAIiRJgMEmSxiZrJ5i0BCrkBwAMUCYi8hkwxGdUIdmQZ9qTHLlSabR55a5G1mwaRWGNA4BDjTG4y5QMKZQaYmxgRsYUYqqmQ25pi2bKbD+kZGzGzRRmD+c3Om+pJtZeaWWmZg5gIaAjBLwmGFCQoBMIfBdrXGitQjbMoBHQFQ8Kg5asyAoARYgjASEZkBjoWZqVGNBCQZkAYnBDzhtu+7d23vSx28nDd6Sx//PkxPFxNDogCPc2kqb2LNPixdd+1KVvKWKXvgz5ljzMMdX3UhjqARXiaBeiRImPIDABChW9AOmGwNStt6OXwfQKKPlACakYdzkOZ3mkQ41x5LdJH4OnmGUi0GWwp+J5aax13rHa/L2txada43OBqJh7X2ds7YnZfTOjllifkkJYhK5iQw3WVvbZvHYVO60CxdNBdDKFNEw2JppqDyMuWr5kiu0y3PYSgDV2qdOtgaOd5ORtWtJEO/FHVxd9YDJe7uIdW3XyX7ccZAlcS5BxOheEEtBRCXA1ouxDawDmPQ0BALYDBCCQMDMBUzQECxIrIwwhnDSiCkMC4J8xp0pzDiEMMWsYo1S5izRFCHMIsLUwPwVzAGA8N7DgWHRg8NGjwmUDUxkgjCAJBAhNAhUwACTMAiMIg0xGOASRzE4sMYgoycKhZDGp0WYgEDMznonBEANC3o/85DJ4ANFEZfxmlAmBBQYVI4QjgMMDGQiMOjcweORIvlBMMSEwLgYyIITcxAMhkswMUTg61MbisxyCQgJGCQuCgmAAMYWCREBQuKlfD6YCQi8FqUaJ6Q6dEXWBBRo8AO9oNGS+i0YBIWEAAZeGXqWPvDrUk6ImoG5rc2J01ZiDJGtsHY2wdIxaih8H//PkxP91jDpAFPcynL8NJXe9hddiIckXFBAghBSPUDFlzaIAx4hfSWL9gZwIWDhS5oFGByC9Eh2nM7WQjwrWuQvhDKRbztIa5xlCmjkonqBvUuxoLttMpE63nFAAgBrCQ7/LRdZ+mKsSZGoA6TM1NU9S27rF6EWCz6HNYw0GpeqkvhXCKaK5WG5LgwA88ZcK08qlz5J2/BSPi9JO3OGn0e6VuxKmfuuyaSMMcWKRF1c2EvW/LvqctYfyiTnjMeU4hhRqXvI2KT0S43aYcz1kkMqwtnfhsy7m5tJdFy38ir6NLlUNKkxBTUUzLjEwMKqqqqoA6gMLgC0EAjGKqjYAgQDAuJ8McQNcwDQRTIaGpMB0IUwIyZTKBZwByNRlT05o+M5hqAgGost+YFiiYogEAgNMPyZb8AiiVhyWtMUQkLOEgTCRLgoDjCke0+QQKICGMwNBQxPF0OEMwLEAwUJ0wsAAy4l4w7G0wXEMxKAwwxB0wkCcDD0reZ2KmFCoEPzKRYx8HNRJTBx4w5SFkAxIqOKzjjSoLH53RwYOHmJIIGPRwTMhBEr0/Uv0dRYCL0oCEBSfSFrkJSRlvQwLVWcNFrjixZAS4ibqzHeYNffpkJaUYDAEQt0MNCk907U4UEaw//PkxO5wVDpIFPd2eAWeDg0wMOSyGAdQkIAy9RaVDZV4wBBcXYoFAEWOkrBGDprIuBcAkAGDVTL6R3bSNJmqZTzZYdbu6NCrFEmfNFhM01KKwp3mNRqGV+LDOkqqwSZd1y2oTThNmd1Pxs7LUNnqaeqGWo3K6jrEmDwLEVTSBr62FvLRl7LX/mofjDo01h1ZqgoOVXllrxxuWxvF/5543fk7oRlkzZlZ2yPuv9uTUGSq4cJ6GavI5ERgWu+1NAbFZuSO9DEBt7TSSTxhyYnDL5UsqikxqZieUO0bqR2HrErqTEFNRTMuMTAwqqqqqqqqqqqqqqqqqqqqqqqqqqqqqqqqqqqqqqqqqqqqqqqqqqqqqqqqqqqqAEk2lMRAGGAjMRZDMCglAKfGhooiEShCvCqwKMU+YOUIKExLn02pE0EAGbojLNBKvBDNDHkyHBktbs4ZhBfJ1LxaTa0ZEKLWFA0yoOTnGGEOEDBR08EXMJLzdcgw0jMKQzKUkvSYeKlYGCQ5qwgACMkRGFzmJPlszCqzZjgUANNIHSZinKCGGTSiC9yGQOPs6EZBmsjEh8Fp3z7cGSw+uthkACMAgEUmgOaQuhabnL0aWlQ+iX7T2mKsfFrbvuethvGVsnljaPGy//PkxMlnHDpcHu70lAZ2rEspzLa85OrAkUiA0NBYtU0pkShaAJVN6UmVStLfVejEWNyx32XQYwxLNy0eIin88r7pdRxnC93bUMftR5qMvSidhfDJ5Gob14GIyVJNK1/HRiLLXXgWHGXsNbs968mutYYcyGMM2nIbf514MZdA0EM8eOHYy+EOQ61frOIbeN2X7caHIsy9uDoMJextWTRtZD3PWoNSKZrEZ89a7q84W+VSbKnw4q0aRkq8WX0qcTxKAO8utuzvMGgplazWWEgOcTmUjIlN4DkUPOo/bto2Tjx1TEFNRTMuMTAwMQAD8wAgqDOweIKwVTCvIKNzcM8wAwEzMfCRMVoNQwvURDWrS9MOEEozNFIzq7EhMKAMIxGBfTB6BWMCUc8aDtBQNph/jBwWFBERYKwEAJCIUYHBWGA4EiDiOgMBcYZIQRgoAPmASAgY2gExhJARGKcWoYuIU5geElmk6KOYkYdJjfE0mDmCGYA4QJhsiWEQVBg2CBmESCGW8NxlEwYEzHpzOMIwYNpmCiGURaZmUJqcbNDKLWY0Fhg0pmjj4IRcZabIcTCYfGc0QChmBAqaSCQAEJixBGFwyBS6Dh2AQ8Ak2LDUwQOSg4XjAAPL3Mie+aYVD8CM//PkxPZyhDo0APcfTBVkr7bRZb6yJiwpYyxpPQ4B+NgzDoB9EoUQlx6y2iHtgQMoy6BMJgDtgkpJByJcyE8FShR3CZqklJxKRIL67QhbMo0T/Xi+MkYvCwZxuRCWIWuTzsWbG7H+jy/EINA8E4qSYJxDl5sMccY3xN1yJ+RchyI+6dJizOjWPVQF/MbT6F0NPs52NR7Q03njW1oAxS6EakVatJeby6ToruS3ClI83bKNmN9Qoo0niogQEghpkmoaUEwV2qWU7K0YU7FKUeK6K6MYKsFvUSJNFVl0LEdq5RisTEFNRTMuMTAwVVVVVVVVVVUAhmEAAoYHgIpqfqymIUAIYdpfZrzi4GGGHmYriu5gJBAmL2UCcM51BjVh5Gl9GgdHo1xg/Bvnk4lGFoVmJL8mZwBAUKjYZWhoViQtTSANjAIPTL9YTGASzAIZzQAmB0RTGN8wYK5hKKxpex5lkZw55Qf1Zie8J5BhxhgMhi+fJkIRgAEEypcExkDkwwHsySJYLA+QTWYji2YSnwdFDKYVBSYBoeZQh8YIiWZACUhoYW5nVBJMWGfs4CQQKbmoAgCCTD5MyQVAC0ag5gkGKhgEgYcQm1ExaUQHIUB0tQUGg4RcpuCvnulTjU0NMqlr//PkxO5wVDo0Evd2mNMJvuy8s4oK6bRIu7z8R6XSvFrUwv++v515EpdJIhE3Jd2OuLKXRlstcpgTpNed59neZU6TkuS7rOXda67sOtdhpwoehpyqZ9n+pnRh2MwDSx2njuTjtKXjcUyhDkQpSMSVUWk+yj0FMvgWRPpecln1A1l/ajaw9POs4UFUUuk826jWXpdFsbR4ZhqJv+3OMQ9CmVOVP2nZcKOda9G31i9PB9XjS2xskqyOcjcIir/z9t+36qQ9NwG80EVoGkEqdR9GvR6GHPdmQvu+0ujTtXKtytdVCYCiBfmA5gCRj3QisCgW4wGkYhMKrBijARQEAw+YSAMAzAAjAkx7UxDwC8MEwCVjCpVawwucH2MFpDdTBWEQMLMEMxeBMTEWBtMEMOoxMROTAsBNMJUaUxHgZTAOBDMVQSAwQwIDDRDJMagL8wbA0DJUBcMEsOswhxLTP3E8MBsowxaHAzLnCCMKgk4zeCsTBKDpMO8p8xVAtTDxHjMIIOwwTARjH7K7MhIN0w2SWTxcaOHps6PEjHQfMcD414zTKYsMFjgwwETDwuBCPMqFUKjNAQDhOOksyAQTFJDBxpEApMApwz+QDAgUM2I8BKcyaGzGQVAgjDCLFVAmUo9J//PkxP90jDosCP+4lED9x6J4OU71O58uvX3ofum7VXbEYeiUa5m1mzWbjLZZUlTvSJr0K1KrcbfWKw3T0j7y9W+OPw2j+2o68bvQNAEMSCl7BNHA1NQV6aORGnpJuOQHMQuMOtDDuwp9EvossZ3nDeVuiYTWnHabBLHLkIaa9sCxvJa3GRQw7rhP+71fJ3ZZUZTCV2vZEY0961nOeF8ZG6F90GJv4sebYIyPit7iR2PN3j7yyqG6aGH2ZTAzcozEpLFrLKojB+82+oHKnpu9KY3QU9L87S1aOxZ7dyp5TZ0qTEFNRTMuMTAwqqqqqqqqqqqqqqqqqqoBkCMV8DYqApnBecyYFQGJhjtymGmFmYQoDppGkFmIoFkYd8aplOEnmGUtYaannpoRATGMCiKYBQGBhPjPmWyR8YPQGhhkEdGJ2HEYBAKpi2AjmByFWYh4e5iRB4mE+ECY9glJgThomOODcYPAkphzlKmVeWwY7wmRhMPCGt2I+YVhoRhBifmIwB0YmwfRn+0GvdGcYfZkVpnr+mA8eazzZpCDHA2QaidZrAFGdiEAA6MAZKsIXpgoKDVYCDi6IRmGRJtE6xDICzIgE0ziSzMOyKUNuTXAjYKBQIFTYAComsneWCJXQrqU//PkxOhu1DosFPc1JOnnrS5v4dZVjXpotjFH9gWxUsSmBYE7Ibki0wKEXn+j7qryo4tA7qrKf5ha4I6p2muztCkvmz4eGLHXxEE9EcWHq3N3fuGak0wGDWtRm+7Vp/br+u1UcmNvBAMncDJ4JuXOJyOP7NdlFag3Yk3Yev6txe47M3lSO3jWh+rFMad0KJ+Hue+Zh5Z7+slarOxt5muSyXYv67k3DWTX4nEZ+067zwT19ovAjuNXmIk7DXI09VVy423Z6OzDuvTEad15BajMNvnG4nakV5+3WaRHXnYhIYfqTEFNRTMuMTAwqqqqqqqqqqqqqqqqqqoYhGCKAdhgBAGuY3MJnGA4AFph+wKaYSeArGAyha5hvoEYYHMCwGGpBxBgDQPMY0AgbGYjiQxg8Yd2YUeEjGHpcHTQBmCI4mYZZBjsmHCYGrR1mUhNGhR7mFQVmPhnmWpQGOAxGtR7mixeG0g6mYLDHBURH+tvGlduGx+zm+pwnEKeGKR7mIZoGoBSmYg+G/SMmVLOGskeGexCmCh/mMJxGT4HmTYwEBCmCICGHgegIKTDEADBoGQEDRlKyw0g0QCZ0w1kRwoinOAsTfWACwCvEPgAZFiBNYolT/TuWDXY77uwuIxF3YzD//PkxOhuzDosDP9ymNTPtLamXIHpo3RWZ2PP/JINyfmNUOV+C4DfWo/rT5uHmXy52GGpFt1W+KBLqIS2pJquPBLc2Spew6uhU77tZbPSrykbTnudiWRCfpaa9B+T8yu9L7jlYZfMQPVw1K78lj8oidx0ZG/rzQK9srhD1xTOYnngirP4McNynhc9yXmbeEu24qq9pTdlSk3MXxHm5QLZZbegV1Y2xGIvZXgyLxrLCHnKfqGrvVoruZc70vlbXeQ7BsbqQLH4pK44/rcm3f2P5u3EoHgiTw/DUfdqetyeNOnVTEFNRQBCYCwuZi4M3HAc0CYQQvZvdryGHCKoZlg9xlchlGRUcwaTRSJjfNTHJyN8Y7YfBj6ALGE+FiZEoOBh1A8GGUOIYpQh5hBCrGEmBKYVwMBhigDGBSD6YMImBhzhwGBGCkYNQS5iABTGGSCwYOIjJkkjhGWCI4YoxwRpVi8GCGioZqAgpi8geGK0M2YrgYxh+NhrQGxs28RmlaZlcdhh0hBluJZioFplyBxjkHJg0DCCphcGJg8BKNaEpyWSGAeCob7suCv8BEhQUwjQhAAEn1GIIz6FGJDhCbVAFNuE5VLCHxf9lzLWHNJYY1uA3QYZI6zQLL0yyV2pdbmL//PkxPtzpDogGPdzJFIZ+O0EFQ80l2I6/NRkLEHlV0IAYgHDOMYR5pNiQhEiZZxKEZYIEFAU5qEiwwORQbC4SNrNHBL2P2vx3mZLJmpuAsIo/D6SuXMMWg5rmsajDKHSZW3VqbBHfc2dZyuhHtz44/DqNjXmqeWQI06EZXaB/Iy/kKh11KZuK/HpUBp09lXNNS+fF9njZI+jfVkxo1EmXRZ/odl8/DmNLMP3qDZO7Mtpn5nJHUr6gmEWX1vwl0Hch5nMFNbgWTtZeKgZu5rpNjpI0wF6o427QWHOC6jru7HFMLxBLDC6lZgzZsJeMC9I0TH5g/UwaINcMHPBIjCtRJIw6kHyMS4lQzoy5DOZMEM0QyEw5AaTCkBpMAIe0xBAxjDqBVMEEEgAA1GG+HEYMoOxhrhIGCYECYIwP5gcAeGCaGIYMAIZgchmGFSFkYTAJBh5AVGUUYiZUhTprHMGmewVqZGZOxh8AFGCcESYoARJhQhKGI+JoYW4phhnhlGIYIOYFQAhgoAhGBwBuDHx0zZfsePmHDokjABM8DFXccl9lViYUzVKqXGBGIIyQ8aEOARxiQAkbFiqVyUyST/Mpa7IZ9g0PQRLpVDVadrO9QuM9qX8YnoKnX7cO/Xh6JR6//PkxP92rDoIAP+0XAO3VjURls1KYZjM1KZy5AK0UkX2hScq1lZjBhjIlAEaVnVgGQICEmBGFUKhILvoQuCpq4oGChQK7BaZoTIW6ggSkyFQKkzFB3+TGFAo4OImynAIOhYyLDG/RtL+GPJERIBAXXBoEygdJZHNkDkN3GhsbUyMOGSzL+odA4EqZJJZTcmPU0ujUYlMcwi8O2ZHAUEQ/lFLuUgrxyVx6/Ou816vdcGdfZl0M00LmYjQxRlU3AsP38XagmHalhTJwo7NR92GfuY3J/4Gk8riEMv9QODIJZAMIruFCpO7rwpMQU1FMy4xMDCqqqqqqqqqqqqqqqqqqqqqMWOEMDMDYCwxIEUgMBBApDDLAlYwPwInMEgAFzBewc4wjkImOKjsNW2NONIjMbAOC6SGE4hmWgqG1SfGZQEGAQuGDIKGHQVGIgWAYFDGcESE0TKoHjHYWwuERheWRkkboMVQ2Bdc1MFg86Wc/mu02A6E3Eb828N00yQsw6FUAkSbVOaaaK0Zt2udLLcaTk4YkGyYBFgdaymSCRloEYWSjRCtpFEdCjBQZPtsbEHDexCeoGGGIMHSU0MIETPRYBH4CNTABhcIOSkBoFBGI4M6gmDolI4DpX2ZSq6Rv4HA//PkxN5sdDn0AP92XClWmoGBrYUQU8GHlvXlhUwwmYd5I9FlNZ35bJHhhhpbpWGRQHE30hts0jjcnhzOCaWapq8SZPIJY6Tuu5RMnhl7WtN0ZC7MasTNJDLg4O8z2KS/GSvU6UIfySvUsMnVMtJLautEnelS5mbRL17OMsZdTAl1ONBjvY1oGn31l8vk0AujLoecKahnb/NxhyC3VlLmzVLAsen/5QzURvPtea1NyyBnqydqPQ84T+xF2X9aK2aHHBmmXPg1NuUqe+ioIfp4hbqRKOyt+a13F3XdjMJgGWyGTEFNRTMuMTAwqqqqqqqqqqqqFw2IyFzSz7JOnImMyaRbzL/F2Mk8dIwlB7zCSHCMN8joxrBNjF3AuMX8zgyjwOTAmA1MDwJQwLwtDC2DpMJMQUwMgsjCPAaMMAMUwVgZxACSYI4UhgWhMmCkCqAgTggAkwtwLTDwCaMRcWgwih5zEHGCMIlBcy5BnzMXH7MYYTQxchNjDQB7MAUCUwJgizA6FYMmUgww8wDgwPYcCnMFAGUwkQXTAvAJMLIJ0wMAKAcC8LAMJZSgLADoGryTbfdWqAW5qzRsuaOjGnADjjCHMBUxCTPMhkiALUsLW/DjT77YGvsPaC86KBddA0QA//PkxO1wNDnoCvZZeENjIKYrkJyQAzJ0XeW+hA1h/VrsjhsEDF1W7tup2LHKCJxvpcCgTgKig5+kB7WVqkADhRlBxkb8QzQO9Qt2TUT0SHjUiex04SspQqlU1R2hpuLWW4KBJpOGlSwF94kztNVrDNXQbu7GaPtV5qN02VMOtQtijIoCfVnEBxCWQG7sAO8151JPLYHjVFEo0Q4ZSl3Uqsd4SCrSlMjk5IZHhFU6OaYf0pLLgNXRCoXS0OpOePSfGbrTg3XiDoTL0SsRg5JxyDUWwk5TGrOl0ZxCkQVpZMTOTEFNRTMuMTAwqqqqqqqqqqpjQHXoTea/jC5g+DsmDcHMYqBBph2DTGHoCQYYgixg9iRGG5RGWZOGKZGCgMmLBbmTQemM5MGJqLGQAoGA5LmJAOmFI5GJI0EQ7mA4QGDoEg4nDI8jhUVgaGBiYgBpKgBs7EBnCWpr80Jvt0J9QlJlUG5icBxhWLxieGBgOEAYGZhQEpiIWJposJnqaxjuEhgKFxwYhkwISAgSiEUQraU6iZIoCKGloHyaFAZkhOsyxr6jbIAViAE1akRQNOjkCTGptVehnkghldYKLSXhKBrcGBw4wFp4hEGg0FYEiQcsBRmtmeMZUZklmoIYRAjJ//PkxO5wVDngDPdyXBgtD+jVIBATDlVOIwkERa0aXlSgiC6BMBEA4pD9LkmOhLTWAspTJYkj8gvEl/Q2/6b0yxqnIBAMSnMn02iwKz1zKrpskR6HEviyZnDxNygFugcavJg7+Q+kEh0iEGKmV8kVfUxdVcLerzb1wk410tHlrCX+S2h1NFOtnDc0XVB3QpH5hDsSmLyuQuo3CEXpQ5Tx00TkbsxCGrDToCZCv+WxtrGl8wJGmhy+SyiJuxnFcI6/159pNF5LAMEZRiPQIz2GJLxw2zUV14YbxpIMvSmCXUwqTEFNRTMuMTAwqqqqqqqqqqqqqqqqqqqqqqqqqqqqgVFKmCWOwaVpMBhOjGmLgHaYdwgZgvCGmGEA4YiwRphzhOmJqBQYJwBpgeAWmPBokCmLjp7yCDCY1UYFBMwQPNaQwUKIkJbGDhSki4xigqZNVmzE5iROYgEGorxv7wAKM0aUN+BwSIlASXxfRQEtM86wwOBRQFEiEAB5hxCY8DmOAqwQcBDQFElgwcUGEJeJ4pAoGo9EMxBlu6Z5ONp6fqi4h8j2PuUuaaSSEotZQXAUA1wcdRsFZAcAdMDUJEmdSAQtogNsCT3cdKFOMqijiqiFWhmSwYZETXEwGRKK5bYA//PkxOFtLDnYNPbwfI2sq0gkwncZgKnCImAhFxPhAaZQOwz5diOiGz1jyodLwKYobNwROZKqdDm5i8HtCwIgmK0NAcninKmEgldVTNmsBIMLQdJ40FoDY+lW7rOHyUpZmptAydbLpWzFYeH0r5a6DTI6w9PZuaZzA3BrvymMnG7OSlDyNJgStL4EhpWdezRHXRyf+BnOYe0iBm3WEUNZIwGD2ZsCdtpz8Ou1Rv6RrTDmoM7ZC15QJqMWYZbZWyl6nFkMaguXzLKpp8mpNSdiYZYv5fDWX+fG5KGH0UShS1b1wbIOC+mA/A3JgL4A6YKOB8mBXAhBgVoEEFALIwQECqMAzAXzAHQF0SAPDADQB8UAGCQAPMAWADxYAdHgEUsmYAaAJAQAfDgA5hAgAAzABwAgBAEiYoQAOhgQuCZgGFzBpS5ARGZRw5igyqsGxcvIY4KreOilEyIqYYkocDDgUBoKpZI3pgCMcGN2BGUGzxMWKzJdYv+YQ8BEBbUEhBZAmgAhWgQcZkDig4JAxVq4OLGQIBUAIDbOQolBwpC1L0HCAMCMWLMYGbZS9G4QD11MZLxhwZAiIASzW3AQEHPn6MKOABgzws2yIyuc4T460g1iI0xcb1mIEAbwNCzLFSRo//PkxP93/DnMA1/QABmUwQqTDw9DIwAJbgOUIVJ5poJjp+K1r9clcRdhYAgAQ5GwQBCodXzgDQkSJBxuWiRgsqztha2TIigSWDAiEoSIkpwBAQEbIB69UqkR0rh0HDKEsv8HCwqNHQywCrUyU4F0oLuwTHBCDCoNRFYsKXmNAo6wjEQB0slKEk0L0AhMHWAVyCga7XJl6azuQ63N6E1GGLRLcFvperpSaC7TY6t5a+bEGdtbghhrImjQIt9BItdfC9W2dNfCqcSWChmUkgC8yNq5fWAniZqreyJ3WTP64imqYz8vI6jc3Ri7OFG2dD3LEdFgiT0BG+L+nWiEKYKQCYkC2KAJGAaAsgmMCoAct+96QgVALLfiQDK5gAHoAoPCgqY+JGGgZigGqmvFoxWHCwKoQY+ZBYFCBAkARUNCwGzQiCVdkwOh1LwRIwIFAIoZ2QBzoEHYsAmDAqN7DS5yI6gyPBfgSBHnCwCYUGLhVVIhoBDgQCJ1N87IJBi2blJiwQPDY4FCQAnSEIIFITFQQFL4iOjEB0FGhgYIhLBQKmuYoHmAizLGULVn0GQuEGIkI6FjBAXxJAhPAECZgxaZFBGWwRywCfDJnFFayhEEPWrSChBPg3doFUQlHgwFUIR4//PkxPJ6hDngAZ7YAJY7wXA0V2kMMHAZLQtgbuSgYkDHoygCIQIFEoKBnJGBgwsNMLIzJQQaGzAhdOlCYIQRkJbF+WwQ6FAUu6vAmDXGYWXMa0xquy+XF/i/cURhT/cs1RAMnQzNGM1sINgOjAhYhLTCxAw8CMECRpqGREw0OMMAEAAqDJ7JvocDBB0ABDvK+C4elksYQApUCV2rPEQApFoCAxkid7WmLNxfSB2Bv09bxyd3aJldPBSkH4YOXNAxSYWHowEwkTDKGJZkuaIQEoAwgILuAwIbx331HAAoEWCtjZY8CBiCNuRMMuUGBTR0g3GUbZYtIlAFLy5aJ4qAl+1cp/r1CQhKg2T8FwFzUnI+MHIFEwhwFTB6AVMAwBMBASsXMBYDMSA6a2YA4AaSIJAmMAQBFFUwEQBIyhuNCiIIzxA5L8uUzu63EmZgkCb14bRKaVMbvkyefSsDAb9ixNH4KAEHBjKZyUAnATiOcDRZTAdFm6gxgAUbUsU8hJacZx+VKBUhiIiZxYDRKeybTgsgY2XpaCo8nIj4nMkM4o9gMsyJVJoToGAgkiXxAAwIDMHJRgQbGQicEKiSygKPAC1J05g0SUGPBu+Am5jwhoB4uePjuOV5ANo6fgeBFnS4//PkxNt3NDnoMZ7QAKAjQsFaRHEP+GACptgYml4kQ3dNIOACQRK9TBziS6aCwITxx1JuChsiJqzRkiZlF5UOAkSSEZXIkz4dGQiaTV2aqBKNQ5D0CrdZK2BgCzEQ1rgpW8iBSCdooKCBBAEgTAABIOFiZgCBly4smNcFM2YMSqMSbM4SNAhMmqGJIqTFuDiNuv2NtJay+1Cv9ljVHYf9rqervF2y/aAWUprlAVYGA1kL2MiFWEFBilpCEAgoFPF1rBKLMQWSNdjXuDDLTBIFEkM2ZAEUFEoAhGCOA8GCxBxHpp5QUpgBuaYsAtYGPGiKgkkja3N8XClDWmvwQuxlTBm/WtNPG/SlrL1sy9h0YjEAWaRGncYp1TeYwSGqsRrKEZWOGMjQkGmElBnZwZOGNfQ7GIjRjIUkOYCFGGhA0BAQVMkKzJBMvYYeIBwcXmMGASulbDUhWSioAx6AzB0DJRUMZEcheYYqZQKVRBm0xkh5dFYVdLYlrCAOZY6ZwyYcIYMEYcIDgTElhmTPqShjMNTiSTeIxYAmcYhSbhqHPTGrDRIRYyASBnUBnSBQCLUq8MKeM8tNgzNo3NglIjpi0RrVhpSxQGBIgyJIBGk7zDCUDVKm2pBADMohNIjM0TMc//PkxNF6pDmwCdvQAETKFQMdFRhn1Bkg5VCGVNGXFKxgQKAhLNY1AS7n6mkbjBhjEhgcCWDMGSM+iNCSSDLKr0LZLXAAsv0Fg4CIlQAZEsZMUCgRd5DZHYxpYzJAaDBQGYgSYQCW1LusGT1MADLWtNpWfGDJGdRBBUAmDRnCYmYYqZQSq2JomtnL2pIohAYEtZ0i/yGzdlNmMllS7LLZ1kRcJXKwSKTc0ArVkBRgQBZJFVpsSgMtyWtTaMSMBRJRYu0n6YYaYgCtVwVAXEL2l2XQTGZctIAhjEglvsSR1MMLDgqRySRfUwgFcCwrqwCglLQq5cEuqWZeZ/XwQlFyiywCBJrQDAYIAl6RUAYcAsOWRWEMOUMYLBQEuCYIKCgrqshAgUwwevmwkmHmGDgnNIB7zyBONYzHwa8FeFXYgsAVgJAcNLha7DGkM7W4kkW1BohEksIGTko0OCW6mC62mPO+TzNeYatJfLCGBs4ae5jutiZWvxLovCFQChSEg6YdKXkL5oEkKkhV9Mrc9eqgycqhyqatjE2mQmPQOzVdSmKhys6wDcH3iFDKn1bk3VojRGVskWcj6gmRlSkS3WmxBt2asSaS2J430iErmJXSW71qMxGAHLagrEiqhkkqk4mQ//PkxLlkDDjsAtZwBIroQCSjIEAqEDyBwhWKjL2JFqgT6VKyJsbsQ5B7qteYatJhLPGltbXooUXpAQgIkQuLDxhxIwLpLIDTwyJlEDEkKBkqH6ei824PGz5bKqSTqHFDojej4jEXRLhIIUPkOST6Wip16NXeWXamom/DfLpUCSNR2Q9GAkoEP0MEr1EE+lirmWCUPTERLDimEAISKqIGjjRhQNKEIHrAaIBMIEkKB0xKUcAjeqRd7KGls8YwtNXCUQQEAgCySFA6khKIAIPokF6i7qISf6lDWJfagVdSXqE5DiVQVUxBTUUzLjEwMFVVVVVVVVVVVVVVVVVVVVVVVVVVVVVVVVVVVVVVVVVVVVVVVVVVVVVVVVVVVVVVVVVVVVVVVVVVVVVVVVVVVVVVVVVVVVVVVVVVVVVVVVVVVVVVVVVVVVVVVVVVVVVVVVVVVVVVVVVVVVVVVVVVVVVVVVVVVVVVVVVVVVVVVVVVVVVVVVVVVVVVVVVVVVVVVVVVVVVVVVVVVVVVVVVVVVVVVVVVVVVVVVVVVVVVVVVVVVVVVVVVVVVVVVVVVVVVVVVVVVVVVVVVVVVVVVVVVVVVVVVVVVVVVVVVVVVVVVVVVVVVVVVVVVVVVVVVVVVVVVVV\" type=\"audio/mpeg\" />\n",
       "                    Your browser does not support the audio element.\n",
       "                </audio>\n",
       "              "
      ],
      "text/plain": [
       "<IPython.lib.display.Audio object>"
      ]
     },
     "metadata": {},
     "output_type": "display_data"
    }
   ],
   "source": [
    "import base64\n",
    "from io import BytesIO\n",
    "from PIL import Image\n",
    "from IPython.display import Audio, display\n",
    "\n",
    "def talker(message):\n",
    "    response = openai.audio.speech.create(\n",
    "        model=\"tts-1\",\n",
    "        voice=\"onyx\",\n",
    "        input=message)\n",
    "\n",
    "    audio_stream = BytesIO(response.content)\n",
    "    output_filename = \"output_audio.mp3\"\n",
    "    with open(output_filename, \"wb\") as f:\n",
    "        f.write(audio_stream.read())\n",
    "\n",
    "    # Play the generated audio\n",
    "    display(Audio(output_filename, autoplay=True))\n",
    "\n",
    "talker(\"Well, hi there\")"
   ]
  },
  {
   "cell_type": "markdown",
   "id": "3a5d11f4-bbd3-43a1-904d-f684eb5f3e3a",
   "metadata": {},
   "source": [
    "## PC Variation 2"
   ]
  },
  {
   "cell_type": "code",
   "execution_count": null,
   "id": "d59c8ebd-79c5-498a-bdf2-3a1c50d91aa0",
   "metadata": {},
   "outputs": [],
   "source": [
    "import tempfile\n",
    "import subprocess\n",
    "from io import BytesIO\n",
    "from pydub import AudioSegment\n",
    "import time\n",
    "\n",
    "def play_audio(audio_segment):\n",
    "    temp_dir = tempfile.gettempdir()\n",
    "    temp_path = os.path.join(temp_dir, \"temp_audio.wav\")\n",
    "    try:\n",
    "        audio_segment.export(temp_path, format=\"wav\")\n",
    "        time.sleep(3) # Student Dominic found that this was needed. You could also try commenting out to see if not needed on your PC\n",
    "        subprocess.call([\n",
    "            \"ffplay\",\n",
    "            \"-nodisp\",\n",
    "            \"-autoexit\",\n",
    "            \"-hide_banner\",\n",
    "            temp_path\n",
    "        ], stdout=subprocess.DEVNULL, stderr=subprocess.DEVNULL)\n",
    "    finally:\n",
    "        try:\n",
    "            os.remove(temp_path)\n",
    "        except Exception:\n",
    "            pass\n",
    " \n",
    "def talker(message):\n",
    "    response = openai.audio.speech.create(\n",
    "        model=\"tts-1\",\n",
    "        voice=\"onyx\",  # Also, try replacing onyx with alloy\n",
    "        input=message\n",
    "    )\n",
    "    audio_stream = BytesIO(response.content)\n",
    "    audio = AudioSegment.from_file(audio_stream, format=\"mp3\")\n",
    "    play_audio(audio)\n",
    "\n",
    "talker(\"Well hi there\")"
   ]
  },
  {
   "cell_type": "markdown",
   "id": "96f90e35-f71e-468e-afea-07b98f74dbcf",
   "metadata": {},
   "source": [
    "## PC Variation 3"
   ]
  },
  {
   "cell_type": "code",
   "execution_count": null,
   "id": "8597c7f8-7b50-44ad-9b31-db12375cd57b",
   "metadata": {},
   "outputs": [],
   "source": [
    "import os\n",
    "from pydub import AudioSegment\n",
    "from pydub.playback import play\n",
    "from io import BytesIO\n",
    "\n",
    "def talker(message):\n",
    "    # Set a custom directory for temporary files on Windows\n",
    "    custom_temp_dir = os.path.expanduser(\"~/Documents/temp_audio\")\n",
    "    os.environ['TEMP'] = custom_temp_dir  # You can also use 'TMP' if necessary\n",
    "    \n",
    "    # Create the folder if it doesn't exist\n",
    "    if not os.path.exists(custom_temp_dir):\n",
    "        os.makedirs(custom_temp_dir)\n",
    "    \n",
    "    response = openai.audio.speech.create(\n",
    "        model=\"tts-1\",\n",
    "        voice=\"onyx\",  # Also, try replacing onyx with alloy\n",
    "        input=message\n",
    "    )\n",
    "    \n",
    "    audio_stream = BytesIO(response.content)\n",
    "    audio = AudioSegment.from_file(audio_stream, format=\"mp3\")\n",
    "\n",
    "    play(audio)\n",
    "\n",
    "talker(\"Well hi there\")"
   ]
  },
  {
   "cell_type": "markdown",
   "id": "e821224c-b069-4f9b-9535-c15fdb0e411c",
   "metadata": {},
   "source": [
    "## PC Variation 4\n",
    "\n",
    "### Let's try a completely different sound library\n",
    "\n",
    "First run the next cell to install a new library, then try the cell below it."
   ]
  },
  {
   "cell_type": "code",
   "execution_count": null,
   "id": "69d3c0d9-afcc-49e3-b829-9c9869d8b472",
   "metadata": {},
   "outputs": [],
   "source": [
    "%pip install simpleaudio"
   ]
  },
  {
   "cell_type": "code",
   "execution_count": null,
   "id": "28f9cc99-36b7-4554-b3f4-f2012f614a13",
   "metadata": {},
   "outputs": [],
   "source": [
    "from pydub import AudioSegment\n",
    "from io import BytesIO\n",
    "import tempfile\n",
    "import os\n",
    "import simpleaudio as sa\n",
    "\n",
    "def talker(message):\n",
    "    response = openai.audio.speech.create(\n",
    "        model=\"tts-1\",\n",
    "        voice=\"onyx\",  # Also, try replacing onyx with alloy\n",
    "        input=message\n",
    "    )\n",
    "    \n",
    "    audio_stream = BytesIO(response.content)\n",
    "    audio = AudioSegment.from_file(audio_stream, format=\"mp3\")\n",
    "\n",
    "    # Create a temporary file in a folder where you have write permissions\n",
    "    with tempfile.NamedTemporaryFile(suffix=\".wav\", delete=False, dir=os.path.expanduser(\"~/Documents\")) as temp_audio_file:\n",
    "        temp_file_name = temp_audio_file.name\n",
    "        audio.export(temp_file_name, format=\"wav\")\n",
    "    \n",
    "    # Load and play audio using simpleaudio\n",
    "    wave_obj = sa.WaveObject.from_wave_file(temp_file_name)\n",
    "    play_obj = wave_obj.play()\n",
    "    play_obj.wait_done()  # Wait for playback to finish\n",
    "\n",
    "    # Clean up the temporary file afterward\n",
    "    os.remove(temp_file_name)\n",
    "    \n",
    "talker(\"Well hi there\")"
   ]
  },
  {
   "cell_type": "markdown",
   "id": "7986176b-cd04-495f-a47f-e057b0e462ed",
   "metadata": {},
   "source": [
    "## PC Users - if none of those 4 variations worked!\n",
    "\n",
    "Please get in touch with me. I'm sorry this is causing problems! We'll figure it out.\n",
    "\n",
    "Alternatively: playing audio from your PC isn't super-critical for this course, and you can feel free to focus on image generation and skip audio for now, or come back to it later."
   ]
  },
  {
   "cell_type": "markdown",
   "id": "1d48876d-c4fa-46a8-a04f-f9fadf61fb0d",
   "metadata": {},
   "source": [
    "# Our Agent Framework\n",
    "\n",
    "The term 'Agentic AI' and Agentization is an umbrella term that refers to a number of techniques, such as:\n",
    "\n",
    "1. Breaking a complex problem into smaller steps, with multiple LLMs carrying out specialized tasks\n",
    "2. The ability for LLMs to use Tools to give them additional capabilities\n",
    "3. The 'Agent Environment' which allows Agents to collaborate\n",
    "4. An LLM can act as the Planner, dividing bigger tasks into smaller ones for the specialists\n",
    "5. The concept of an Agent having autonomy / agency, beyond just responding to a prompt - such as Memory\n",
    "\n",
    "We're showing 1 and 2 here, and to a lesser extent 3 and 5. In week 8 we will do the lot!"
   ]
  },
  {
   "cell_type": "code",
   "execution_count": 18,
   "id": "ba820c95-02f5-499e-8f3c-8727ee0a6c0c",
   "metadata": {},
   "outputs": [],
   "source": [
    "def chat(history):\n",
    "    messages = [{\"role\": \"system\", \"content\": system_message}] + history\n",
    "    response = openai.chat.completions.create(model=MODEL, messages=messages, tools=tools)\n",
    "    image = None\n",
    "    \n",
    "    if response.choices[0].finish_reason==\"tool_calls\":\n",
    "        message = response.choices[0].message\n",
    "        response, city = handle_tool_call(message)\n",
    "        messages.append(message)\n",
    "        messages.append(response)\n",
    "        image = artist(city)\n",
    "        response = openai.chat.completions.create(model=MODEL, messages=messages)\n",
    "        \n",
    "    reply = response.choices[0].message.content\n",
    "    history += [{\"role\":\"assistant\", \"content\":reply}]\n",
    "\n",
    "    # Comment out or delete the next line if you'd rather skip Audio for now..\n",
    "    talker(reply)\n",
    "    \n",
    "    return history, image"
   ]
  },
  {
   "cell_type": "code",
   "execution_count": 19,
   "id": "f38d0d27-33bf-4992-a2e5-5dbed973cde7",
   "metadata": {},
   "outputs": [
    {
     "name": "stdout",
     "output_type": "stream",
     "text": [
      "* Running on local URL:  http://127.0.0.1:7866\n",
      "* To create a public link, set `share=True` in `launch()`.\n"
     ]
    },
    {
     "data": {
      "text/html": [
       "<div><iframe src=\"http://127.0.0.1:7866/\" width=\"100%\" height=\"500\" allow=\"autoplay; camera; microphone; clipboard-read; clipboard-write;\" frameborder=\"0\" allowfullscreen></iframe></div>"
      ],
      "text/plain": [
       "<IPython.core.display.HTML object>"
      ]
     },
     "metadata": {},
     "output_type": "display_data"
    },
    {
     "data": {
      "text/plain": []
     },
     "execution_count": 19,
     "metadata": {},
     "output_type": "execute_result"
    },
    {
     "data": {
      "text/html": [
       "\n",
       "                <audio  controls=\"controls\" autoplay=\"autoplay\">\n",
       "                    <source src=\"data:audio/mpeg;base64,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\" type=\"audio/mpeg\" />\n",
       "                    Your browser does not support the audio element.\n",
       "                </audio>\n",
       "              "
      ],
      "text/plain": [
       "<IPython.lib.display.Audio object>"
      ]
     },
     "metadata": {},
     "output_type": "display_data"
    }
   ],
   "source": [
    "# More involved Gradio code as we're not using the preset Chat interface!\n",
    "# Passing in inbrowser=True in the last line will cause a Gradio window to pop up immediately.\n",
    "\n",
    "with gr.Blocks() as ui:\n",
    "    with gr.Row():\n",
    "        chatbot = gr.Chatbot(height=500, type=\"messages\")\n",
    "        image_output = gr.Image(height=500)\n",
    "    with gr.Row():\n",
    "        entry = gr.Textbox(label=\"Chat with our AI Assistant:\")\n",
    "    with gr.Row():\n",
    "        clear = gr.Button(\"Clear\")\n",
    "\n",
    "    def do_entry(message, history):\n",
    "        history += [{\"role\":\"user\", \"content\":message}]\n",
    "        return \"\", history\n",
    "\n",
    "    entry.submit(do_entry, inputs=[entry, chatbot], outputs=[entry, chatbot]).then(\n",
    "        chat, inputs=chatbot, outputs=[chatbot, image_output]\n",
    "    )\n",
    "    clear.click(lambda: None, inputs=None, outputs=chatbot, queue=False)\n",
    "\n",
    "ui.launch(inbrowser=True)"
   ]
  },
  {
   "cell_type": "markdown",
   "id": "226643d2-73e4-4252-935d-86b8019e278a",
   "metadata": {},
   "source": [
    "# Exercises and Business Applications\n",
    "\n",
    "Add in more tools - perhaps to simulate actually booking a flight. A student has done this and provided their example in the community contributions folder.\n",
    "\n",
    "Next: take this and apply it to your business. Make a multi-modal AI assistant with tools that could carry out an activity for your work. A customer support assistant? New employee onboarding assistant? So many possibilities! Also, see the week2 end of week Exercise in the separate Notebook."
   ]
  },
  {
   "cell_type": "markdown",
   "id": "7e795560-1867-42db-a256-a23b844e6fbe",
   "metadata": {},
   "source": [
    "<table style=\"margin: 0; text-align: left;\">\n",
    "    <tr>\n",
    "        <td style=\"width: 150px; height: 150px; vertical-align: middle;\">\n",
    "            <img src=\"../thankyou.jpg\" width=\"150\" height=\"150\" style=\"display: block;\" />\n",
    "        </td>\n",
    "        <td>\n",
    "            <h2 style=\"color:#090;\">I have a special request for you</h2>\n",
    "            <span style=\"color:#090;\">\n",
    "                My editor tells me that it makes a HUGE difference when students rate this course on Udemy - it's one of the main ways that Udemy decides whether to show it to others. If you're able to take a minute to rate this, I'd be so very grateful! And regardless - always please reach out to me at ed@edwarddonner.com if I can help at any point.\n",
    "            </span>\n",
    "        </td>\n",
    "    </tr>\n",
    "</table>"
   ]
  }
 ],
 "metadata": {
  "kernelspec": {
   "display_name": "llms",
   "language": "python",
   "name": "python3"
  },
  "language_info": {
   "codemirror_mode": {
    "name": "ipython",
    "version": 3
   },
   "file_extension": ".py",
   "mimetype": "text/x-python",
   "name": "python",
   "nbconvert_exporter": "python",
   "pygments_lexer": "ipython3",
   "version": "3.11.13"
  }
 },
 "nbformat": 4,
 "nbformat_minor": 5
}
