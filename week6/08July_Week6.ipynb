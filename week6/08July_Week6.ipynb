{
    "cells": [
        {
            "cell_type": "markdown",
            "id": "eeab229e",
            "metadata": {},
            "source": [
                "<div style=\"font-size: 13px; line-height: 1.4; margin: 0; padding: 0;\">\n",
                "<h5 style=\"margin-bottom: 0.2em;\">\n",
                "This notebook documents my theoretical study alongside the lab exercises conducted on <b>July 8, 2025</b>.\n",
                "</h5>\n",
                "</div>"
            ]
        },
        {
            "cell_type": "markdown",
            "id": "8f662707",
            "metadata": {},
            "source": [
                "### <u><b>LAB EXERCISES:</b></u> **WEEK 6**"
            ]
        },
        {
            "cell_type": "markdown",
            "id": "f3c26888",
            "metadata": {},
            "source": [
                "<div style=\"font-size: 12px; line-height: 1.4; margin: 0; padding: 0;\">\n",
                "  <h5 style=\"margin-bottom: 0.2em;\">\n",
                "    <b style=\"font-size: 16px;\">Overview:</b> Build a RAG pipeline to collect, clean, and balance product data, then standardize this data into <code>Item</code> objects with well-structured prompts and token counts suitable for training a product pricing model. Also, tokenizer behavior is validated to ensure that 3-digit price values were encoded into a single token, preparing the dataset for upcoming training and evaluation steps.\n",
                "  </h5>\n",
                "</div>\n"
            ]
        },
        {
            "cell_type": "markdown",
            "id": "29c2e502",
            "metadata": {},
            "source": [
                "#### <code>**day1.ipynb**</code>"
            ]
        },
        {
            "cell_type": "markdown",
            "id": "111e31d0",
            "metadata": {},
            "source": [
                "<div style=\"font-size: 14px; line-height: 1.5; margin: 0; padding: 0;\">\n",
                "<b style=\"font-size: 16px;\">Abstract:</b> Begin the <b>Product Pricer</b> project by curating a dataset of <b>Home Appliances</b> from Amazon reviews. Focus on items with prices and prepare them for training by creating <code>Item</code> objects with truncated text and prompts.\n",
                "</div>"
            ]
        },
        {
            "cell_type": "markdown",
            "id": "8dce24f1",
            "metadata": {},
            "source": [
                "<div style=\"font-size: 14px; line-height: 1.4; margin: 0; padding: 0;\">\n",
                "  <h4 style=\"margin-bottom: 0.3em; font-size: 16px;\"><b>The Big Project Begins!</b></h4>\n",
                "  <b>Product Pricer:</b> A model that can estimate how much something costs based on its description.<br>\n",
                "  <b>Data Curation – Part 1:</b> We’ll begin curating and cleaning a subset of the dataset, focusing on <b>Home Appliances</b>.<br>\n",
                "  <b>Dataset source:</b><br>\n",
                "  <a href=\"https://huggingface.co/datasets/McAuley-Lab/Amazon-Reviews-2023\" target=\"_blank\">https://huggingface.co/datasets/McAuley-Lab/Amazon-Reviews-2023</a><br>\n",
                "  <b>Meta categories folder:</b><br>\n",
                "  <a href=\"https://huggingface.co/datasets/McAuley-Lab/Amazon-Reviews-2023/tree/main/raw/meta_categories\" target=\"_blank\">https://huggingface.co/datasets/McAuley-Lab/Amazon-Reviews-2023/tree/main/raw/meta_categories</a>\n",
                "</div>\n"
            ]
        },
        {
            "cell_type": "markdown",
            "id": "a134d527",
            "metadata": {},
            "source": [
                "<div style=\"font-size: 14px; line-height: 1.4; margin: 0; padding: 0;\">\n",
                "  <h5 style=\"margin-bottom: 0.2em; font-size: 15px;\"><b>Sidenote: What is Data Curation?</b></h5>\n",
                "  Data curation is the process of collecting, cleaning, organizing, and preparing raw data into a high-quality, structured dataset suitable for analysis or machine learning tasks.<br>\n",
                "  In the context of this week, curation includes:\n",
                "  <ul style=\"margin: 0.4em 0; padding-left: 1.5em;\">\n",
                "    <li>Selecting relevant data points (e.g., products with valid prices)</li>\n",
                "    <li>Removing or correcting errors, inconsistencies, or irrelevant entries</li>\n",
                "    <li>Balancing the dataset by category or price range</li>\n",
                "    <li>Formatting data: creating prompts, truncating text, tokenizing</li>\n",
                "    <li>Saving curated outputs for reuse in training and evaluation</li>\n",
                "  </ul>\n",
                "  Well-curated data ensures your models are trained on accurate, representative, and relevant samples — leading to stronger performance and more trustworthy results.\n",
                "</div>\n"
            ]
        },
        {
            "cell_type": "code",
            "execution_count": null,
            "id": "e27333d1",
            "metadata": {},
            "outputs": [],
            "source": [
                "# Run in Anaconda Prompt (for conda users):\n",
                "# conda install -c conda-forge datasets matplotlib matplotlib-inline\n",
                "\n",
                "# pip users:\n",
                "# pip install datasets matplotlib matplotlib-inline"
            ]
        },
        {
            "cell_type": "code",
            "execution_count": null,
            "id": "4ec654ef",
            "metadata": {},
            "outputs": [],
            "source": [
                "import os\n",
                "from dotenv import load_dotenv\n",
                "from huggingface_hub import login\n",
                "from datasets import load_dataset, Dataset, DatasetDict\n",
                "import matplotlib.pyplot as plt\n",
                "from items import Item"
            ]
        },
        {
            "cell_type": "code",
            "execution_count": null,
            "id": "5b2ecc74",
            "metadata": {},
            "outputs": [],
            "source": [
                "load_dotenv(override=True)\n",
                "os.environ['OPENAI_API_KEY'] = os.getenv('OPENAI_API_KEY', 'your-key-if-not-using-env')\n",
                "os.environ['ANTHROPIC_API_KEY'] = os.getenv('ANTHROPIC_API_KEY', 'your-key-if-not-using-env')\n",
                "os.environ['HF_TOKEN'] = os.getenv('HF_TOKEN', 'your-key-if-not-using-env')"
            ]
        },
        {
            "cell_type": "code",
            "execution_count": null,
            "id": "9d9bd3c4",
            "metadata": {},
            "outputs": [],
            "source": [
                "hf_token = os.environ['HF_TOKEN']\n",
                "login(hf_token, add_to_git_credential=True)"
            ]
        },
        {
            "cell_type": "code",
            "execution_count": null,
            "id": "19c4d0b9",
            "metadata": {},
            "outputs": [],
            "source": [
                "# %matplotlib inline"
            ]
        },
        {
            "cell_type": "code",
            "execution_count": null,
            "id": "c68c5f73",
            "metadata": {},
            "outputs": [],
            "source": [
                "# Load in our dataset\n",
                "\n",
                "dataset = load_dataset(\"McAuley-Lab/Amazon-Reviews-2023\", f\"raw_meta_Appliances\", split=\"full\", trust_remote_code=True)"
            ]
        },
        {
            "cell_type": "code",
            "execution_count": null,
            "id": "36140541",
            "metadata": {},
            "outputs": [],
            "source": [
                "print(f\"Number of Appliances: {len(dataset):,}\")"
            ]
        },
        {
            "cell_type": "code",
            "execution_count": null,
            "id": "610fd26e",
            "metadata": {},
            "outputs": [],
            "source": [
                "# Investigate a particular datapoint\n",
                "datapoint = dataset[2]"
            ]
        },
        {
            "cell_type": "code",
            "execution_count": null,
            "id": "b67a5cec",
            "metadata": {},
            "outputs": [],
            "source": [
                "# Investigate\n",
                "print(datapoint[\"title\"])\n",
                "print(datapoint[\"description\"])\n",
                "print(datapoint[\"features\"])\n",
                "print(datapoint[\"details\"])\n",
                "print(datapoint[\"price\"])"
            ]
        },
        {
            "cell_type": "code",
            "execution_count": null,
            "id": "4d67c339",
            "metadata": {},
            "outputs": [],
            "source": [
                "# How many have prices?\n",
                "prices = 0\n",
                "for datapoint in dataset:\n",
                "    try:\n",
                "        price = float(datapoint[\"price\"])\n",
                "        if price > 0:\n",
                "            prices += 1\n",
                "    except ValueError as e:\n",
                "        pass\n",
                "\n",
                "print(f\"There are {prices:,} with prices which is {prices/len(dataset)*100:,.1f}%\")"
            ]
        },
        {
            "cell_type": "code",
            "execution_count": null,
            "id": "6f08d34e",
            "metadata": {},
            "outputs": [],
            "source": [
                "# For those with prices, gather the price and the length\n",
                "prices = []\n",
                "lengths = []\n",
                "for datapoint in dataset:\n",
                "    try:\n",
                "        price = float(datapoint[\"price\"])\n",
                "        if price > 0:\n",
                "            prices.append(price)\n",
                "            contents = datapoint[\"title\"] + str(datapoint[\"description\"]) + str(datapoint[\"features\"]) + str(datapoint[\"details\"])\n",
                "            lengths.append(len(contents))\n",
                "    except ValueError as e:\n",
                "        pass"
            ]
        },
        {
            "cell_type": "code",
            "execution_count": null,
            "id": "01d372f9",
            "metadata": {},
            "outputs": [],
            "source": [
                "# Plot the distribution of lengths\n",
                "plt.figure(figsize=(15, 6))\n",
                "plt.title(f\"Lengths: Avg {sum(lengths)/len(lengths):,.0f} and highest {max(lengths):,}\\n\")\n",
                "plt.xlabel('Length (chars)')\n",
                "plt.ylabel('Count')\n",
                "plt.hist(lengths, rwidth=0.7, color=\"lightblue\", bins=range(0, 6000, 100))\n",
                "plt.show()"
            ]
        },
        {
            "cell_type": "code",
            "execution_count": null,
            "id": "0191163b",
            "metadata": {},
            "outputs": [],
            "source": [
                "# Plot the distribution of prices\n",
                "plt.figure(figsize=(15, 6))\n",
                "plt.title(f\"Prices: Avg {sum(prices)/len(prices):,.2f} and highest {max(prices):,}\\n\")\n",
                "plt.xlabel('Price ($)')\n",
                "plt.ylabel('Count')\n",
                "plt.hist(prices, rwidth=0.7, color=\"orange\", bins=range(0, 1000, 10))\n",
                "plt.show()"
            ]
        },
        {
            "cell_type": "code",
            "execution_count": null,
            "id": "c03966c9",
            "metadata": {},
            "outputs": [],
            "source": [
                "# So what is this item??\n",
                "for datapoint in dataset:\n",
                "    try:\n",
                "        price = float(datapoint[\"price\"])\n",
                "        if price > 21000:\n",
                "            print(datapoint['title'])\n",
                "    except ValueError as e:\n",
                "        pass"
            ]
        },
        {
            "cell_type": "markdown",
            "id": "e820e71e",
            "metadata": {},
            "source": [
                "<div style=\"font-size: 14px; line-height: 1.5; margin: 0; padding: 0;\">\n",
                "<b style=\"font-size: 16px;\">Reference Product (for Comparison):</b><br>\n",
                "This is the closest I can find — looks like it's going at a bargain price!<br>\n",
                "<a href=\"https://www.amazon.com/TurboChef-Electric-Countertop-Microwave-Convection/dp/B01D05U9NO/\" target=\"_blank\">\n",
                "https://www.amazon.com/TurboChef-Electric-Countertop-Microwave-Convection/dp/B01D05U9NO/\n",
                "</a>\n",
                "</div>\n"
            ]
        },
        {
            "cell_type": "markdown",
            "id": "17396064",
            "metadata": {},
            "source": [
                "<div style=\"font-size: 14px; line-height: 1.4; margin: 0; padding: 0;\">\n",
                "  <h5 style=\"margin-bottom: 0.3em; font-size: 15px;\"><b>Now It's Time to Curate Our Dataset</b></h5>\n",
                "  We select items that cost between <b>$1 and $999</b>.<br>\n",
                "  For each product, we will create <code>Item</code> instances that:\n",
                "  <ul style=\"margin: 0.4em 0; padding-left: 1.5em;\">\n",
                "    <li>Truncate the product description to fit within <b>180 tokens</b> using the appropriate tokenizer</li>\n",
                "    <li>Generate a <b>prompt</b> to be used during training</li>\n",
                "  </ul>\n",
                "  Items will be <b>rejected</b> if they do not contain a sufficient number of characters.\n",
                "</div>\n",
                "\n",
                "<div style=\"font-size: 14px; line-height: 1.4; margin: 0.8em 0 0 0; padding: 0;\">\n",
                "  <h5 style=\"margin-bottom: 0.3em; font-size: 15px;\"><b>But Why 180 Tokens?</b></h5>\n",
                "  A student asked a great question — <i>\"Why are we truncating to 180 tokens? How did we determine that number?\"</i><br>\n",
                "  (Thank you Moataz A. for the excellent question!)<br><br>\n",
                "  The answer: This is a classic example of a <b>hyperparameter</b>. In other words, it's chosen via <b>trial and error</b>.\n",
                "  <ul style=\"margin: 0.4em 0; padding-left: 1.5em;\">\n",
                "    <li>A high enough token count to give the model useful pricing context</li>\n",
                "    <li>A low enough token count to ensure efficient training</li>\n",
                "  </ul>\n",
                "  I experimented with several values and found that <b>180</b> offered the best balance. You are encouraged to try your own tuning — this type of iteration is a key part of data science research and development.<br><br>\n",
                "  There’s also a practical reason for keeping the token count low: During <b>inference time</b>, we’ll estimate prices for products using short 1–2 sentence descriptions. Our training data should mimic this format for optimal performance.\n",
                "</div>\n",
                "\n",
                "<div style=\"font-size: 14px; line-height: 1.4; margin: 0.8em 0 0 0; padding: 0;\">\n",
                "  <h5 style=\"margin-bottom: 0.3em; font-size: 15px;\"><b>But I See 160 Tokens in <code>items.py</code>?</b></h5>\n",
                "  Another great question from Moataz A.!<br><br>\n",
                "  Yes — the product description is limited to <b>160 tokens</b> because we prepend and append custom text to format it into a training prompt. That extra context brings the <b>total length</b> to around <b>180 tokens</b>.\n",
                "</div>\n"
            ]
        },
        {
            "cell_type": "code",
            "execution_count": null,
            "id": "13ac08a7",
            "metadata": {},
            "outputs": [],
            "source": [
                "# Create an Item object for each with a price\n",
                "items = []\n",
                "for datapoint in dataset:\n",
                "    try:\n",
                "        price = float(datapoint[\"price\"])\n",
                "        if price > 0:\n",
                "            item = Item(datapoint, price)\n",
                "            if item.include:\n",
                "                items.append(item)\n",
                "    except ValueError as e:\n",
                "        pass\n",
                "\n",
                "print(f\"There are {len(items):,} items\")"
            ]
        },
        {
            "cell_type": "code",
            "execution_count": null,
            "id": "bb4202b4",
            "metadata": {},
            "outputs": [],
            "source": [
                "# Look at the first item\n",
                "items[1]"
            ]
        },
        {
            "cell_type": "code",
            "execution_count": null,
            "id": "466b275d",
            "metadata": {},
            "outputs": [],
            "source": [
                "# Investigate the prompt that will be used during training - the model learns to complete this\n",
                "print(items[100].prompt)"
            ]
        },
        {
            "cell_type": "code",
            "execution_count": null,
            "id": "0b857239",
            "metadata": {},
            "outputs": [],
            "source": [
                "# Investigate the prompt that will be used during testing - the model has to complete this\n",
                "print(items[100].test_prompt())"
            ]
        },
        {
            "cell_type": "code",
            "execution_count": null,
            "id": "c281fc7c",
            "metadata": {},
            "outputs": [],
            "source": [
                "# Plot the distribution of token counts\n",
                "tokens = [item.token_count for item in items]\n",
                "plt.figure(figsize=(15, 6))\n",
                "plt.title(f\"Token counts: Avg {sum(tokens)/len(tokens):,.1f} and highest {max(tokens):,}\\n\")\n",
                "plt.xlabel('Length (tokens)')\n",
                "plt.ylabel('Count')\n",
                "plt.hist(tokens, rwidth=0.7, color=\"green\", bins=range(0, 300, 10))\n",
                "plt.show()"
            ]
        },
        {
            "cell_type": "code",
            "execution_count": null,
            "id": "b2e16a74",
            "metadata": {},
            "outputs": [],
            "source": [
                "# Plot the distribution of prices\n",
                "prices = [item.price for item in items]\n",
                "plt.figure(figsize=(15, 6))\n",
                "plt.title(f\"Prices: Avg {sum(prices)/len(prices):,.1f} and highest {max(prices):,}\\n\")\n",
                "plt.xlabel('Price ($)')\n",
                "plt.ylabel('Count')\n",
                "plt.hist(prices, rwidth=0.7, color=\"purple\", bins=range(0, 300, 10))\n",
                "plt.show()"
            ]
        },
        {
            "cell_type": "markdown",
            "id": "895943df",
            "metadata": {},
            "source": [
                "<div style=\"font-size: 14px; line-height: 1.4; margin: 0; padding: 0;\">\n",
                "  <h5 style=\"margin-bottom: 0.3em; font-size: 15px;\"><b>Sidenote</b></h5>\n",
                "  If you enjoy the variety of colors used by <code>matplotlib</code> in its charts, you might want to bookmark this:<br>\n",
                "  <a href=\"https://matplotlib.org/stable/gallery/color/named_colors.html\" target=\"_blank\">https://matplotlib.org/stable/gallery/color/named_colors.html</a>\n",
                "</div>\n",
                "\n",
                "<div style=\"font-size: 14px; line-height: 1.4; margin: 0.8em 0 0 0; padding: 0;\">\n",
                "  <h5 style=\"margin-bottom: 0.3em; font-size: 15px;\"><b>To-Dos for You</b></h5>\n",
                "  <ul style=\"margin: 0.4em 0; padding-left: 1.5em;\">\n",
                "    <li>Review the <code>Item</code> class and ensure you're comfortable with how it works</li>\n",
                "    <li>Examine a few <code>Item</code> objects — check the training prompt via <code>item.prompt</code> and test prompt with <code>item.test_prompt()</code></li>\n",
                "    <li>Create additional histograms to explore the dataset’s distribution and structure</li>\n",
                "  </ul>\n",
                "</div>\n",
                "\n",
                "<div style=\"font-size: 14px; line-height: 1.4; margin: 0.8em 0 0 0; padding: 0;\">\n",
                "  <h5 style=\"margin-bottom: 0.3em; font-size: 15px;\"><b>Coming Up Next</b></h5>\n",
                "  We’ll expand the dataset to include additional product categories like <b>Electronics</b> and <b>Automotive</b>.<br>\n",
                "  This will allow us to work with a larger and more diverse dataset, enabling better selection of a balanced and high-quality training set.\n",
                "</div>\n"
            ]
        },
        {
            "cell_type": "markdown",
            "id": "425289b3",
            "metadata": {},
            "source": [
                "<div style=\"font-size: 12px; line-height: 1.5; margin: 0; padding: 0;\">\n",
                "<h5 style=\"margin-bottom: 0.4em;\">Examine a few <code>Item</code> objects — look at the training prompt via <code>item.prompt</code> and the test prompt with <code>item.test_prompt()</code></h5>\n",
                "</div>"
            ]
        },
        {
            "cell_type": "code",
            "execution_count": null,
            "id": "efc369ca",
            "metadata": {},
            "outputs": [],
            "source": [
                "# Test Case\n",
                "# Look at the training prompt for an item\n",
                "print(items[0].prompt)\n",
                "\n",
                "# Look at the test prompt for the same item (price removed)\n",
                "print(items[0].test_prompt())\n",
                "\n",
                "# You can repeat for more items, e.g. items[1], items[100]\n",
                "print(items[1].prompt)\n",
                "print(items[1].test_prompt())\n",
                "print(items[100].prompt)\n",
                "print(items[100].test_prompt())"
            ]
        },
        {
            "cell_type": "markdown",
            "id": "e999add2",
            "metadata": {},
            "source": [
                "<br>"
            ]
        },
        {
            "cell_type": "markdown",
            "id": "12836695",
            "metadata": {},
            "source": [
                "<br>"
            ]
        },
        {
            "cell_type": "markdown",
            "id": "5162b846",
            "metadata": {},
            "source": [
                "#### <code>**day2.ipynb**</code>"
            ]
        },
        {
            "cell_type": "markdown",
            "id": "282e423d",
            "metadata": {},
            "source": [
                "<div style=\"font-size: 14px; line-height: 1.5; margin: 0; padding: 0;\">\n",
                "<b style=\"font-size: 16px;\">Abstract:</b> Scale up data curation by combining multiple product categories. Balance the dataset by <b>price range</b> and <b>category distribution</b>, and save final <code>train.pkl</code> and <code>test.pkl</code> files for reuse.\n",
                "</div>"
            ]
        },
        {
            "cell_type": "markdown",
            "id": "88f2e547",
            "metadata": {},
            "source": [
                "<div style=\"font-size: 14px; line-height: 1.4; margin: 0; padding: 0;\">\n",
                "  <h4 style=\"margin-bottom: 0.2em; font-size: 17px;\"><b>The Product Pricer Continued</b></h4>\n",
                "  A model that can estimate how much something costs, from its description.\n",
                "</div>\n",
                "<div style=\"font-size: 14px; line-height: 1.4; margin-top: 0.6em; padding: 0;\">\n",
                "  <h5 style=\"margin-bottom: 0.2em; font-size: 15px;\"><b>Data Curation Part 2</b></h5>\n",
                "  Today we’ll extend our dataset to achieve broader coverage and refine it into a high-quality training dataset.\n",
                "  Data curation might not feel as exciting as model tuning or inference, but it’s a critical part of the LLM engineer’s responsibilities. Mastering this process allows you to build robust commercial solutions grounded in carefully curated data.\n",
                "</div>\n",
                "<div style=\"font-size: 14px; line-height: 1.4; margin-top: 0.6em; padding: 0;\">\n",
                "  <b>Dataset Source:</b><br>\n",
                "  <a href=\"https://huggingface.co/datasets/McAuley-Lab/Amazon-Reviews-2023\" target=\"_blank\">https://huggingface.co/datasets/McAuley-Lab/Amazon-Reviews-2023</a><br>\n",
                "  <b>Meta Categories Folder:</b><br>\n",
                "  <a href=\"https://huggingface.co/datasets/McAuley-Lab/Amazon-Reviews-2023/tree/main/raw/meta_categories\" target=\"_blank\">https://huggingface.co/datasets/McAuley-Lab/Amazon-Reviews-2023/tree/main/raw/meta_categories</a>\n",
                "</div>\n",
                "<div style=\"font-size: 14px; line-height: 1.4; margin-top: 0.6em; padding: 0;\">\n",
                "  <h5 style=\"margin-bottom: 0.2em; font-size: 15px;\"><b>Important Note – Please Read First</b></h5>\n",
                "  We’re about to build a large dataset of <b>400,000 items</b> across multiple product types.\n",
                "  In <b>Week 7</b>, we’ll use this dataset to train our own model. Depending on your GPU, training might take <b>20+ hours</b> and may cost several dollars in compute units.\n",
                "  If you prefer a <b>quicker, lower-cost alternative</b>, use a smaller dataset focused solely on <b>Home Appliances</b>. This covers the same learning goals with slightly reduced accuracy.\n",
                "  Use <code>lite.ipynb</code> for the smaller dataset.\n",
                "  Alternatively, you can skip the curation step by downloading the preprocessed <code>.pkl</code> files:\n",
                "  <a href=\"https://drive.google.com/drive/folders/1f_IZGybvs9o0J5sb3xmtTEQB3BXllzrW\" target=\"_blank\">Download Pickle Files</a>\n",
                "</div>\n"
            ]
        },
        {
            "cell_type": "code",
            "execution_count": null,
            "id": "f679ace5",
            "metadata": {},
            "outputs": [],
            "source": [
                "import os\n",
                "import random\n",
                "from dotenv import load_dotenv\n",
                "from huggingface_hub import login\n",
                "from datasets import load_dataset, Dataset, DatasetDict\n",
                "import matplotlib.pyplot as plt\n",
                "from collections import Counter, defaultdict\n",
                "import numpy as np\n",
                "import pickle"
            ]
        },
        {
            "cell_type": "code",
            "execution_count": null,
            "id": "8bc71260",
            "metadata": {},
            "outputs": [],
            "source": [
                "load_dotenv(override=True)\n",
                "os.environ['OPENAI_API_KEY'] = os.getenv('OPENAI_API_KEY', 'your-key-if-not-using-env')\n",
                "os.environ['ANTHROPIC_API_KEY'] = os.getenv('ANTHROPIC_API_KEY', 'your-key-if-not-using-env')\n",
                "os.environ['HF_TOKEN'] = os.getenv('HF_TOKEN', 'your-key-if-not-using-env')"
            ]
        },
        {
            "cell_type": "code",
            "execution_count": null,
            "id": "cfb0c3e6",
            "metadata": {},
            "outputs": [],
            "source": [
                "hf_token = os.environ['HF_TOKEN']\n",
                "login(hf_token, add_to_git_credential=True)"
            ]
        },
        {
            "cell_type": "code",
            "execution_count": null,
            "id": "5ea96c4e",
            "metadata": {},
            "outputs": [],
            "source": [
                "from loaders import ItemLoader\n",
                "from items import Item"
            ]
        },
        {
            "cell_type": "markdown",
            "id": "bbe6beea",
            "metadata": {},
            "source": [
                "<div style=\"font-size: 14px; line-height: 1.5; margin: 0; padding: 0;\">\n",
                "<h5 style=\"margin-bottom: 0.2em; font-size: 16px;\"><b>The ItemLoader Code</b></h5>\n",
                "Look inside <code>loaders.py</code> — there's some helpful utility code there to make our work easier.\n",
                "</div>"
            ]
        },
        {
            "cell_type": "code",
            "execution_count": null,
            "id": "f40ac775",
            "metadata": {},
            "outputs": [],
            "source": [
                "# Load in the same dataset as last time\n",
                "items = ItemLoader(\"Appliances\").load()"
            ]
        },
        {
            "cell_type": "code",
            "execution_count": null,
            "id": "15660084",
            "metadata": {},
            "outputs": [],
            "source": [
                "# Look for a familiar item..\n",
                "print(items[1].prompt)"
            ]
        },
        {
            "cell_type": "markdown",
            "id": "31768311",
            "metadata": {},
            "source": [
                "<div style=\"font-size: 14px; line-height: 1.5; margin: 0; padding: 0;\">\n",
                "<h5 style=\"margin-bottom: 0.2em; font-size: 16px;\"><b>Now to SCALE UP</b></h5>\n",
                "Let’s explore all datasets that include items typically found in a large home retail store — such as electrical, electronic, and office-related products — but <b>excluding</b> categories like clothes, beauty, and books.\n",
                "</div>"
            ]
        },
        {
            "cell_type": "code",
            "execution_count": null,
            "id": "d11041c2",
            "metadata": {},
            "outputs": [],
            "source": [
                "dataset_names = [\n",
                "    \"Automotive\",\n",
                "    \"Electronics\",\n",
                "    \"Office_Products\",\n",
                "    \"Tools_and_Home_Improvement\",\n",
                "    \"Cell_Phones_and_Accessories\",\n",
                "    \"Toys_and_Games\",\n",
                "    \"Appliances\",\n",
                "    \"Musical_Instruments\",\n",
                "]"
            ]
        },
        {
            "cell_type": "code",
            "execution_count": null,
            "id": "1feb1819",
            "metadata": {},
            "outputs": [],
            "source": [
                "# Download all datasets & load into items\n",
                "\n",
                "items = []\n",
                "for dataset_name in dataset_names:\n",
                "    loader = ItemLoader(dataset_name)\n",
                "    items.extend(loader.load())\n",
                "\n",
                "# Now, time for a coffee break!!\n",
                "# By the way, I put the biggest datasets first.. it gets faster."
            ]
        },
        {
            "cell_type": "code",
            "execution_count": null,
            "id": "88e2af9d",
            "metadata": {},
            "outputs": [],
            "source": [
                "print(f\"A grand total of {len(items):,} items\")"
            ]
        },
        {
            "cell_type": "code",
            "execution_count": null,
            "id": "1ff5ba42",
            "metadata": {},
            "outputs": [],
            "source": [
                "# Plot the distribution of token counts again\n",
                "tokens = [item.token_count for item in items]\n",
                "\n",
                "if tokens:\n",
                "    plt.figure(figsize=(15, 6))\n",
                "    plt.title(f\"Token counts: Avg {sum(tokens)/len(tokens):,.1f} and highest {max(tokens):,}\\n\")\n",
                "    plt.xlabel('Length (tokens)')\n",
                "    plt.ylabel('Count')\n",
                "    plt.hist(tokens, rwidth=0.7, color=\"skyblue\", bins=range(0, 300, 10))\n",
                "    plt.show()\n",
                "else:\n",
                "    print(\"No items to plot. The 'items' list is empty.\")"
            ]
        },
        {
            "cell_type": "code",
            "execution_count": null,
            "id": "9ad14874",
            "metadata": {},
            "outputs": [],
            "source": [
                "# Plot the distribution of prices\n",
                "prices = [item.price for item in items]\n",
                "plt.figure(figsize=(15, 6))\n",
                "plt.title(f\"Prices: Avg {sum(prices)/len(prices):,.1f} and highest {max(prices):,}\\n\")\n",
                "plt.xlabel('Price ($)')\n",
                "plt.ylabel('Count')\n",
                "plt.hist(prices, rwidth=0.7, color=\"blueviolet\", bins=range(0, 1000, 10))\n",
                "plt.show()"
            ]
        },
        {
            "cell_type": "code",
            "execution_count": null,
            "id": "fac76e94",
            "metadata": {},
            "outputs": [],
            "source": [
                "category_counts = Counter()\n",
                "for item in items:\n",
                "    category_counts[item.category]+=1\n",
                "\n",
                "categories = category_counts.keys()\n",
                "counts = [category_counts[category] for category in categories]\n",
                "\n",
                "# Bar chart by category\n",
                "plt.figure(figsize=(15, 6))\n",
                "plt.bar(categories, counts, color=\"goldenrod\")\n",
                "plt.title('How many in each category')\n",
                "plt.xlabel('Categories')\n",
                "plt.ylabel('Count')\n",
                "\n",
                "plt.xticks(rotation=30, ha='right')\n",
                "\n",
                "# Add value labels on top of each bar\n",
                "for i, v in enumerate(counts):\n",
                "    plt.text(i, v, f\"{v:,}\", ha='center', va='bottom')\n",
                "\n",
                "# Display the chart\n",
                "plt.show()"
            ]
        },
        {
            "cell_type": "markdown",
            "id": "67acaf09",
            "metadata": {},
            "source": [
                "<div style=\"font-size: 14px; line-height: 1.5; margin: 0; padding: 0;\">\n",
                "  <h5 style=\"margin-bottom: 0.2em; font-size: 16px;\"><b>Objective</b></h5>\n",
                "  Craft a dataset that is more balanced in terms of pricing. Aim to:<br>\n",
                "  - Reduce the dominance of low-cost (cheap) items<br>\n",
                "  - Increase the average price to be higher than <b>$60</b><br>\n",
                "  - Balance category representation, specifically by <b>reducing Automotive items</b>\n",
                "</div>\n"
            ]
        },
        {
            "cell_type": "code",
            "execution_count": null,
            "id": "429a6312",
            "metadata": {},
            "outputs": [],
            "source": [
                "# Create a dict with a key of each price from $1 to $999\n",
                "# And in the value, put a list of items with that price (to nearest round number)\n",
                "slots = defaultdict(list)\n",
                "for item in items:\n",
                "    slots[round(item.price)].append(item)"
            ]
        },
        {
            "cell_type": "code",
            "execution_count": null,
            "id": "5955e160",
            "metadata": {},
            "outputs": [],
            "source": [
                "# Create a dataset called \"sample\" which tries to more evenly take from the range of prices\n",
                "# And gives more weight to items from categories other than Automotive\n",
                "# Set random seed for reproducibility\n",
                "np.random.seed(42)\n",
                "random.seed(42)\n",
                "sample = []\n",
                "for i in range(1, 1000):\n",
                "    slot = slots[i]\n",
                "    if i>=240:\n",
                "        sample.extend(slot)\n",
                "    elif len(slot) <= 1200:\n",
                "        sample.extend(slot)\n",
                "    else:\n",
                "        weights = np.array([1 if item.category=='Automotive' else 5 for item in slot])\n",
                "        weights = weights / np.sum(weights)\n",
                "        selected_indices = np.random.choice(len(slot), size=1200, replace=False, p=weights)\n",
                "        selected = [slot[i] for i in selected_indices]\n",
                "        sample.extend(selected)\n",
                "\n",
                "print(f\"There are {len(sample):,} items in the sample\")"
            ]
        },
        {
            "cell_type": "code",
            "execution_count": null,
            "id": "2e7dcf43",
            "metadata": {},
            "outputs": [],
            "source": [
                "# Plot the distribution of prices in sample\n",
                "prices = [float(item.price) for item in sample]\n",
                "plt.figure(figsize=(15, 10))\n",
                "plt.title(f\"Avg {sum(prices)/len(prices):.2f} and highest {max(prices):,.2f}\\n\")\n",
                "plt.xlabel('Price ($)')\n",
                "plt.ylabel('Count')\n",
                "plt.hist(prices, rwidth=0.7, color=\"darkblue\", bins=range(0, 1000, 10))\n",
                "plt.show()"
            ]
        },
        {
            "cell_type": "code",
            "execution_count": null,
            "id": "daaf3bee",
            "metadata": {},
            "outputs": [],
            "source": [
                "# OK, we did well in terms of raising the average price and having a smooth-ish population of prices\n",
                "# Let's see the categories\n",
                "\n",
                "category_counts = Counter()\n",
                "for item in sample:\n",
                "    category_counts[item.category]+=1\n",
                "\n",
                "categories = category_counts.keys()\n",
                "counts = [category_counts[category] for category in categories]\n",
                "\n",
                "# Create bar chart\n",
                "plt.figure(figsize=(15, 6))\n",
                "plt.bar(categories, counts, color=\"lightgreen\")\n",
                "\n",
                "# Customize the chart\n",
                "plt.title('How many in each category')\n",
                "plt.xlabel('Categories')\n",
                "plt.ylabel('Count')\n",
                "\n",
                "plt.xticks(rotation=30, ha='right')\n",
                "\n",
                "# Add value labels on top of each bar\n",
                "for i, v in enumerate(counts):\n",
                "    plt.text(i, v, f\"{v:,}\", ha='center', va='bottom')\n",
                "\n",
                "# Display the chart\n",
                "plt.show()"
            ]
        },
        {
            "cell_type": "code",
            "execution_count": null,
            "id": "8bd88a15",
            "metadata": {},
            "outputs": [],
            "source": [
                "# Automotive still in the lead, but improved somewhat\n",
                "# For another perspective, let's look at a pie\n",
                "\n",
                "plt.figure(figsize=(12, 10))\n",
                "plt.pie(counts, labels=categories, autopct='%1.0f%%', startangle=90)\n",
                "\n",
                "# Add a circle at the center to create a donut chart (optional)\n",
                "centre_circle = plt.Circle((0,0), 0.70, fc='white')\n",
                "fig = plt.gcf()\n",
                "fig.gca().add_artist(centre_circle)\n",
                "plt.title('Categories')\n",
                "\n",
                "# Equal aspect ratio ensures that pie is drawn as a circle\n",
                "plt.axis('equal')  \n",
                "\n",
                "plt.show()"
            ]
        },
        {
            "cell_type": "markdown",
            "id": "2e904509",
            "metadata": {},
            "source": [
                "<div style=\"font-size: 14px; line-height: 1.5; margin: 0; padding: 0;\">\n",
                "  <h5 style=\"margin-bottom: 0.2em; font-size: 16px;\"><b>Dataset Curated! ✅</b></h5>\n",
                "  We've crafted an excellent dataset. Let's do some final checks.\n",
                "</div>\n"
            ]
        },
        {
            "cell_type": "code",
            "execution_count": null,
            "id": "e91a36cc",
            "metadata": {},
            "outputs": [],
            "source": [
                "# How does the price vary with the character count of the prompt?\n",
                "\n",
                "sizes = [len(item.prompt) for item in sample]\n",
                "prices = [item.price for item in sample]\n",
                "\n",
                "# Create the scatter plot\n",
                "plt.figure(figsize=(15, 8))\n",
                "plt.scatter(sizes, prices, s=0.2, color=\"red\")\n",
                "\n",
                "# Add labels and title\n",
                "plt.xlabel('Size')\n",
                "plt.ylabel('Price')\n",
                "plt.title('Is there a simple correlation?')\n",
                "\n",
                "# Display the plot\n",
                "plt.show()"
            ]
        },
        {
            "cell_type": "code",
            "execution_count": null,
            "id": "e612575f",
            "metadata": {},
            "outputs": [],
            "source": [
                "def report(item):\n",
                "    prompt = item.prompt\n",
                "    tokens = Item.tokenizer.encode(item.prompt)\n",
                "    print(prompt)\n",
                "    print(tokens[-10:])\n",
                "    print(Item.tokenizer.batch_decode(tokens[-10:]))"
            ]
        },
        {
            "cell_type": "code",
            "execution_count": null,
            "id": "6e3eba6a",
            "metadata": {},
            "outputs": [],
            "source": [
                "report(sample[398000])"
            ]
        },
        {
            "cell_type": "markdown",
            "id": "9c7a8b8f",
            "metadata": {},
            "source": [
                "<div style=\"font-size: 14px; line-height: 1.5; margin: 0; padding: 0;\">\n",
                "  <h5 style=\"margin-bottom: 0.2em; font-size: 16px;\"><b>Observation</b></h5>\n",
                "  An interesting behavior of the <b>Llama tokenizer</b> is that every number from <b>1 to 999</b> is mapped to a <b>single token</b>, similar to what we observed with <code>gpt-4o</code>.<br>\n",
                "  In contrast, models like <code>qwen2</code>, <code>gemma</code>, and <code>phi3</code> tokenize each digit separately.<br>\n",
                "  While this isn’t a strict requirement, it does provide a slight advantage in our project by making numerical input more compact.\n",
                "</div>\n"
            ]
        },
        {
            "cell_type": "markdown",
            "id": "66b0e847",
            "metadata": {},
            "source": [
                "<div style=\"font-size: 14px; line-height: 1.5; margin: 0; padding: 0;\">\n",
                "  <h5 style=\"margin-bottom: 0.2em; font-size: 16px;\"><b>Finally</b></h5>\n",
                "  It’s time to split our curated data into <b>training</b>, <b>test</b>, and <b>validation</b> sets.<br>\n",
                "  While it’s typical to allocate around <b>5%–10%</b> of the data for testing, we currently have more data than we need. So we’ll use:\n",
                "  <ul style=\"margin: 0.2em 0; padding-left: 1.5em;\">\n",
                "    <li><b>400,000 samples</b> for training</li>\n",
                "    <li><b>2,000 samples</b> for testing</li>\n",
                "  </ul>\n",
                "  We may not use all the test samples immediately, but they will be helpful for evaluation as we iterate on our models.\n",
                "</div>\n"
            ]
        },
        {
            "cell_type": "code",
            "execution_count": null,
            "id": "db70be2d",
            "metadata": {},
            "outputs": [],
            "source": [
                "random.seed(42)\n",
                "random.shuffle(sample)\n",
                "train = sample[:400_000]\n",
                "test = sample[400_000:402_000]\n",
                "print(f\"Divided into a training set of {len(train):,} items and test set of {len(test):,} items\")"
            ]
        },
        {
            "cell_type": "code",
            "execution_count": null,
            "id": "0593ac2f",
            "metadata": {},
            "outputs": [],
            "source": [
                "print(train[0].prompt)"
            ]
        },
        {
            "cell_type": "code",
            "execution_count": null,
            "id": "debfb78c",
            "metadata": {},
            "outputs": [],
            "source": [
                "print(test[0].test_prompt())"
            ]
        },
        {
            "cell_type": "code",
            "execution_count": null,
            "id": "dc4bd337",
            "metadata": {},
            "outputs": [],
            "source": [
                "# Plot the distribution of prices in the first 250 test points\n",
                "\n",
                "prices = [float(item.price) for item in test[:250]]\n",
                "plt.figure(figsize=(15, 6))\n",
                "plt.title(f\"Avg {sum(prices)/len(prices):.2f} and highest {max(prices):,.2f}\\n\")\n",
                "plt.xlabel('Price ($)')\n",
                "plt.ylabel('Count')\n",
                "plt.hist(prices, rwidth=0.7, color=\"darkblue\", bins=range(0, 1000, 10))\n",
                "plt.show()"
            ]
        },
        {
            "cell_type": "markdown",
            "id": "89cdd1ef",
            "metadata": {},
            "source": [
                "<div style=\"font-size: 14px; line-height: 1.5; margin: 0; padding: 0;\">\n",
                "  <h5 style=\"margin-bottom: 0.2em; font-size: 16px;\"><b>Finally</b></h5>\n",
                "  Convert your curated dataset into prompt format and upload it to the <b>HuggingFace Hub</b>.<br>\n",
                "  This ensures your dataset is accessible for training and testing, and can be reused or shared across projects.<br>\n",
                "  Make sure to include:\n",
                "  <ul style=\"margin: 0.2em 0; padding-left: 1.5em;\">\n",
                "    <li>Correct formatting (e.g., <code>prompt</code> and <code>price</code> fields)</li>\n",
                "    <li>A clear dataset card with description and metadata</li>\n",
                "    <li>Proper visibility settings (public or private, as needed)</li>\n",
                "  </ul>\n",
                "</div>\n"
            ]
        },
        {
            "cell_type": "code",
            "execution_count": null,
            "id": "0d27a792",
            "metadata": {},
            "outputs": [],
            "source": [
                "train_prompts = [item.prompt for item in train]\n",
                "train_prices = [item.price for item in train]\n",
                "test_prompts = [item.test_prompt() for item in test]\n",
                "test_prices = [item.price for item in test]"
            ]
        },
        {
            "cell_type": "code",
            "execution_count": null,
            "id": "0f28fdf4",
            "metadata": {},
            "outputs": [],
            "source": [
                "# Create a Dataset from the lists\n",
                "\n",
                "train_dataset = Dataset.from_dict({\"text\": train_prompts, \"price\": train_prices})\n",
                "test_dataset = Dataset.from_dict({\"text\": test_prompts, \"price\": test_prices})\n",
                "dataset = DatasetDict({\n",
                "    \"train\": train_dataset,\n",
                "    \"test\": test_dataset\n",
                "})"
            ]
        },
        {
            "cell_type": "code",
            "execution_count": null,
            "id": "94d96cf2",
            "metadata": {},
            "outputs": [],
            "source": [
                "# Uncomment these lines if you're ready to push to the hub, and replace my name with your HF username\n",
                "\n",
                "# HF_USER = \"ed-donner\"\n",
                "# DATASET_NAME = f\"{HF_USER}/pricer-data\"\n",
                "# dataset.push_to_hub(DATASET_NAME, private=True)"
            ]
        },
        {
            "cell_type": "code",
            "execution_count": null,
            "id": "3526d5f0",
            "metadata": {},
            "outputs": [],
            "source": [
                "# One more thing!\n",
                "# Let's pickle the training and test dataset so we don't have to execute all this code next time!\n",
                "\n",
                "with open('train.pkl', 'wb') as file:\n",
                "    pickle.dump(train, file)\n",
                "\n",
                "with open('test.pkl', 'wb') as file:\n",
                "    pickle.dump(test, file)"
            ]
        },
        {
            "cell_type": "markdown",
            "id": "d5737101",
            "metadata": {},
            "source": [
                "<div style=\"font-size: 14px; line-height: 1.4; margin: 0; padding: 0;\">\n",
                "  <h5 style=\"margin-bottom: 0.3em; font-size: 15px;\"><b>To-Dos</b></h5>\n",
                "  <ul style=\"margin: 0.4em 0; padding-left: 1.5em;\">\n",
                "    <li>Investigate the dataset more!</li>\n",
                "    <li>Confirm that the tokenizer tokenizes all 3-digit prices into a single token</li>\n",
                "  </ul>\n",
                "</div>\n"
            ]
        },
        {
            "cell_type": "markdown",
            "id": "c12a528e",
            "metadata": {},
            "source": [
                "<div style=\"font-size: 12px; line-height: 1.4; margin: 0; padding: 0;\">\n",
                "  <h5 style=\"margin-bottom: 0.3em;\"><b>1/</b> Investigate the dataset more </h5>\n",
                "</div>\n"
            ]
        },
        {
            "cell_type": "code",
            "execution_count": null,
            "id": "3e620bea",
            "metadata": {},
            "outputs": [],
            "source": [
                "# View details of the first 5 items in the sample\n",
                "for i in range(5):\n",
                "    # print(sample[i].prompt)\n",
                "    print(\"Product name:\", sample[i].title)\n",
                "    print(\"Price:\", sample[i].price)\n",
                "    print(\"Category:\", sample[i].category)\n",
                "    print(\"Token count:\", sample[i].token_count)\n",
                "\n",
                "    print(\"\")\n",
                "\n",
                "    # print(\"=\"*40)"
            ]
        },
        {
            "cell_type": "markdown",
            "id": "4e706150",
            "metadata": {},
            "source": [
                "<div style=\"font-size: 12px; line-height: 1.4; margin: 0; padding: 0;\">\n",
                "  <h5 style=\"margin-bottom: 0.3em;\"><b>2/</b> Confirm that the tokenizer tokenizes all 3-digit prices into a single token </h5>\n",
                "</div>\n"
            ]
        },
        {
            "cell_type": "code",
            "execution_count": null,
            "id": "1aadcb01",
            "metadata": {},
            "outputs": [],
            "source": [
                "# Check that the tokenizer tokenizes all 3-digit prices into a single token\n",
                "# This is a simple test case to confirm the tokenizer's behavior with 3-digit prices\n",
                "for price in [100, 123, 456, 789, 999]:\n",
                "    tokens = Item.tokenizer.encode(str(price), add_special_tokens=False)\n",
                "    print(f\"Price: {price} -> Tokens: {tokens} (Length: {len(tokens)})\")"
            ]
        },
        {
            "cell_type": "markdown",
            "id": "f406d186",
            "metadata": {},
            "source": [
                "<div style=\"font-size: 14px; line-height: 1.4; margin: 0; padding: 0;\">\n",
                "  <h5 style=\"margin-bottom: 0.3em; font-size: 15px;\"><b>Note: <code>add_special_tokens=False</code> in Tokenizer</b></h5>\n",
                "  When calling the <code>encode()</code> method of a tokenizer with <code>add_special_tokens=False</code>, special tokens like <code>&lt;bos&gt;</code>, <code>&lt;eos&gt;</code>, or <code>&lt;pad&gt;</code> will not be added to the encoded output.\n",
                "  <ul style=\"margin: 0.4em 0; padding-left: 1.5em;\">\n",
                "    <li><b>Purpose:</b> If you only want to tokenize the exact input (e.g., the number <code>\"123\"</code>), the result will contain only the token for <code>\"123\"</code>.</li>\n",
                "    <li>If left as default (<code>add_special_tokens=True</code>), the tokenizer may automatically prepend or append special tokens, leading to more tokens and distorting your token count.</li>\n",
                "  </ul>\n",
                "  <b>Examples:</b><br>\n",
                "  <code>encode(\"123\", add_special_tokens=True)</code> → <code>[&lt;bos&gt;, 4513, &lt;eos&gt;]</code> (3 tokens)<br>\n",
                "  <code>encode(\"123\", add_special_tokens=False)</code> → <code>[4513]</code> (just the token for 123)\n",
                "</div>\n"
            ]
        },
        {
            "cell_type": "markdown",
            "id": "e8f5b3be",
            "metadata": {},
            "source": [
                "<br>"
            ]
        },
        {
            "cell_type": "markdown",
            "id": "7a27be3d",
            "metadata": {},
            "source": [
                "#### <code>**day3.ipynb**</code>"
            ]
        },
        {
            "cell_type": "markdown",
            "id": "47e09435",
            "metadata": {},
            "source": [
                "<div style=\"font-size: 14px; line-height: 1.5; margin: 0; padding: 0;\">\n",
                "<b style=\"font-size: 16px;\">Abstract:</b> Build baseline models for the Product Pricer using classical ML approaches: <b>Linear Regression</b>, <b>Bag of Words</b>, <b>Word2Vec</b>, <b>Support Vector Machine</b>, and <b>Random Forest</b>. Benchmark performance using a custom <code>Tester</code> class.\n",
                "</div>"
            ]
        },
        {
            "cell_type": "markdown",
            "id": "17382efa",
            "metadata": {},
            "source": [
                "<br>"
            ]
        },
        {
            "cell_type": "markdown",
            "id": "9925339a",
            "metadata": {},
            "source": [
                "<br>"
            ]
        },
        {
            "cell_type": "markdown",
            "id": "2cae8fed",
            "metadata": {},
            "source": [
                "#### <code>**day4.ipynb**</code>"
            ]
        },
        {
            "cell_type": "markdown",
            "id": "dceb3ac0",
            "metadata": {},
            "source": [
                "<div style=\"font-size: 14px; line-height: 1.5; margin: 0; padding: 0;\">\n",
                "<b style=\"font-size: 16px;\">Abstract:</b> Evaluate the performance of <b>Frontier LLMs</b>—including GPT-4o-mini, GPT-4o, and Claude 3.5 Sonnet—on the Product Pricer dataset. Compare their effectiveness against traditional ML models using the same test set.\n",
                "</div>"
            ]
        },
        {
            "cell_type": "markdown",
            "id": "fe1a3464",
            "metadata": {},
            "source": [
                "<br>"
            ]
        },
        {
            "cell_type": "markdown",
            "id": "3d0e900a",
            "metadata": {},
            "source": [
                "<br>"
            ]
        },
        {
            "cell_type": "markdown",
            "id": "a24692b6",
            "metadata": {},
            "source": [
                "#### <code>**day5.ipynb**</code>"
            ]
        },
        {
            "cell_type": "markdown",
            "id": "3d17b2f2",
            "metadata": {},
            "source": [
                "<div style=\"font-size: 14px; line-height: 1.5; margin: 0; padding: 0;\">\n",
                "<b style=\"font-size: 16px;\">Abstract:</b> Fine-tune the <b>GPT-4o-mini</b> model using OpenAI's API. Prepare the dataset in <code>JSONL</code> format, upload to OpenAI, initiate fine-tuning, and evaluate the accuracy of the customized Product Pricer model.\n",
                "</div>"
            ]
        }
    ],
    "metadata": {
        "kernelspec": {
            "display_name": "llms-gpu",
            "language": "python",
            "name": "python3"
        },
        "language_info": {
            "codemirror_mode": {
                "name": "ipython",
                "version": 3
            },
            "file_extension": ".py",
            "mimetype": "text/x-python",
            "name": "python",
            "nbconvert_exporter": "python",
            "pygments_lexer": "ipython3",
            "version": "3.10.18"
        }
    },
    "nbformat": 4,
    "nbformat_minor": 5
}
