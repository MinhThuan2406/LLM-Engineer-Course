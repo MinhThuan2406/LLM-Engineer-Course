{
 "cells": [
  {
   "cell_type": "markdown",
   "id": "fa06e5da",
   "metadata": {},
   "source": [
    "<div style=\"font-size: 13px; line-height: 1.4; margin: 0; padding: 0;\">\n",
    "<h5 style=\"margin-bottom: 0.2em;\">\n",
    "This notebook documents my theoretical study alongside the lab exercises conducted on <b>July 9, 2025</b>.\n",
    "</h5>\n",
    "</div>"
   ]
  },
  {
   "cell_type": "markdown",
   "id": "501a82da",
   "metadata": {},
   "source": [
    "<div style=\"font-size: 14px; line-height: 1.5; margin: 0; padding: 0;\">\n",
    "  <b style=\"font-size: 16px;\">Disclaimer:</b> Most of the work this week will be done on <b>Colab Notebook</b>, so this notebook serves as a supplement to the results obtained on Colab.\n",
    "</div>\n"
   ]
  },
  {
   "cell_type": "markdown",
   "id": "23adbc0c",
   "metadata": {},
   "source": [
    "### <u><b>LAB EXERCISES:</b></u> **WEEK 7**"
   ]
  }
 ],
 "metadata": {
  "language_info": {
   "name": "python"
  }
 },
 "nbformat": 4,
 "nbformat_minor": 5
}
